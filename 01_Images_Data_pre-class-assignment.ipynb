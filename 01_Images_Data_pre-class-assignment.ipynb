{
 "cells": [
  {
   "cell_type": "markdown",
   "metadata": {},
   "source": [
    "<a href=\"https://colab.research.google.com/github/colbrydi/Lithophane/blob/master/01_Images_Data_pre-class-assignment.ipynb\" target=\"_parent\"><img src=\"https://colab.research.google.com/assets/colab-badge.svg\" alt=\"Open In Colab\"/></a>\n"
   ]
  },
  {
   "cell_type": "markdown",
   "metadata": {},
   "source": [
    "# Pre-Class Assignment: Image Data and Preprocessing\n",
    "In this pre-class assignment we will explore how image data is stored and manipulated in a computer."
   ]
  },
  {
   "cell_type": "markdown",
   "metadata": {},
   "source": [
    "# Goals for today's pre-class assignment \n",
    "\n",
    "1. [How are images stored in a computer?](#How_are_images_stored_in_a_computer)\n",
    "3. [Viewing Image Histograms](#Viewing_Image_Histograms)\n",
    "4. [Histogram Equalization](#Histogram_Equalization)\n"
   ]
  },
  {
   "cell_type": "markdown",
   "metadata": {},
   "source": [
    "----\n",
    "\n",
    "<a name=\"How_are_images_stored_in_a_computer\"></a>\n",
    "# 1. How are images stored in a computer?\n",
    "\n",
    "Consider the following video on how colors are represented as numbers."
   ]
  },
  {
   "cell_type": "code",
   "execution_count": null,
   "metadata": {},
   "outputs": [],
   "source": [
    "from IPython.display import YouTubeVideo\n",
    "YouTubeVideo(\"15aqFQQVBWU\",width=640,height=360, cc_load_policy=True)"
   ]
  },
  {
   "cell_type": "markdown",
   "metadata": {},
   "source": [
    "The following code reproduces the sliders shown in the videos to represent color:"
   ]
  },
  {
   "cell_type": "code",
   "execution_count": null,
   "metadata": {},
   "outputs": [],
   "source": [
    "%matplotlib inline\n",
    "import matplotlib.pylab as plt\n",
    "from ipywidgets import interact, fixed\n",
    "import numpy as np\n",
    "\n",
    "def showcolor(red,green,blue):\n",
    "    plt.scatter(1,1, color=(red/255,green/255,blue/255), s=10000 );\n",
    "    plt.axis('off');\n",
    "    plt.show();\n",
    "\n",
    "interact(showcolor, red=(0,255), green=(0,255), blue=(0,255));"
   ]
  },
  {
   "cell_type": "markdown",
   "metadata": {},
   "source": [
    "The following code downloads an image off the internet using the provided URL and stores the image in a variable called ```im```.   **Note:** this image is from https://eyecancer.com/eye-cancer/image-galleries/retinal-tumors/"
   ]
  },
  {
   "cell_type": "code",
   "execution_count": null,
   "metadata": {},
   "outputs": [],
   "source": [
    "from urllib.request import urlopen, urlretrieve\n",
    "from imageio import imread, imsave\n",
    "\n",
    "url1 = 'https://goo.gl/mdqgBZ'\n",
    "file='eye.jpeg'\n",
    "\n",
    "urlretrieve(url1, file)\n",
    "im = imread(file)\n",
    "    \n",
    "#Show the image\n",
    "plt.imshow(im);\n"
   ]
  },
  {
   "cell_type": "markdown",
   "metadata": {},
   "source": [
    "The image provided above is a three channel RGB (Red, Green, Blue) Image stored as a $row \\times cols \\times 3$ ```numpy``` array. The following code shows the contribution of the red  green and blue components to the image."
   ]
  },
  {
   "cell_type": "code",
   "execution_count": null,
   "metadata": {},
   "outputs": [],
   "source": [
    "#Simple loop to print out the red, green and blue channels\n",
    "names = ['Red', 'Green', 'Blue'];\n",
    "f, ax = plt.subplots(1, 4,figsize=(20,10));\n",
    "\n",
    "for c in range(3):\n",
    "    c_im = np.ubyte(np.zeros(im.shape));\n",
    "    c_im[:,:,c] = im[:,:,c];\n",
    "    ax[c].imshow(c_im, cmap='gray');\n",
    "    ax[c].axis('off')\n",
    "    ax[c].set_title(names[c])\n",
    "\n",
    "ax[3].imshow(im);\n",
    "ax[3].axis('off');"
   ]
  },
  {
   "cell_type": "markdown",
   "metadata": {},
   "source": [
    "The following is an example function that takes an image as an input and returns a color shifted value (similar to the function described in the video). "
   ]
  },
  {
   "cell_type": "markdown",
   "metadata": {},
   "source": [
    "----\n",
    "<a href=\"Single_Channel_Images\"></a>\n",
    "\n",
    "# 2. Single Channel Images\n",
    "\n",
    " In many scientific domains we only deal with a single channel also called a \"grayscale\" image. The following code converts the RGB to a grayscale."
   ]
  },
  {
   "cell_type": "code",
   "execution_count": null,
   "metadata": {},
   "outputs": [],
   "source": [
    "#Convert color image to grayscale\n",
    "import skimage.color as color\n",
    "gray = color.rgb2gray(im)"
   ]
  },
  {
   "cell_type": "code",
   "execution_count": null,
   "metadata": {},
   "outputs": [],
   "source": [
    "f, (ax1, ax2) = plt.subplots(1, 2,figsize=(20,10))\n",
    "\n",
    "ax1.imshow(im)\n",
    "ax1.set_title('Original Image')\n",
    "ax2.imshow(gray,cmap='gray')\n",
    "ax2.set_title('Grayscale Image');"
   ]
  },
  {
   "cell_type": "markdown",
   "metadata": {},
   "source": [
    "----\n",
    "\n",
    "<a name=\"Viewing_Image_Histograms\"></a>\n",
    "# 2. Viewing Image Histograms\n",
    "\n",
    ">An image histogram is a type of histogram that acts as a graphical representation of the tonal distribution in a digital image. It plots the number of pixels for each tonal value. By looking at the histogram for a specific image a viewer will be able to judge the entire tonal distribution at a glance.\n",
    "\n",
    "<p style=\"text-align: right;\"> <a href=\"https://en.wikipedia.org/wiki/Image_histogram\">Image histogram - Wikipedia</a></p>\n",
    " \n",
    "The following code snip-its generate histograms for the provided example Image. Note it is common to use a different histogram for each channel. "
   ]
  },
  {
   "cell_type": "code",
   "execution_count": null,
   "metadata": {},
   "outputs": [],
   "source": [
    "#RGB Histogram snip-it of an image. Each channel calculated separately and displayed in the same image\n",
    "\n",
    "fig = plt.figure(figsize=(15,5))\n",
    "\n",
    "plt.hist(im[:,:,0].ravel(), alpha=0.5, bins=256, range=(0, 256), color='red');\n",
    "plt.hist(im[:,:,1].ravel(), alpha=0.5, bins=256, range=(0, 256), color='green');\n",
    "plt.hist(im[:,:,2].ravel(), alpha=0.5, bins=256, range=(0, 256), color='blue');\n",
    "plt.title('Historgams for Overlayed Red, Green and Blue Channels of a color image')"
   ]
  },
  {
   "cell_type": "code",
   "execution_count": null,
   "metadata": {},
   "outputs": [],
   "source": [
    "#Histogram snip-it for a grayscale image\n",
    "import skimage.filters as filters\n",
    "\n",
    "fig = plt.figure(figsize=(15,5))\n",
    "ax1 = fig.add_subplot(311)  \n",
    "i = 0\n",
    "N, bins, patches = ax1.hist(gray.ravel(), bins=255, range=(0, 1), color='gray');\n",
    "for thispatch in patches:\n",
    "    #color = plt.cm.viridis(i/len(patches))\n",
    "    frac = i/len(patches)\n",
    "    thispatch.set_facecolor((frac,frac,frac))\n",
    "    i += 1\n",
    "    \n",
    "plt.title('Historgams for Grayscale Image')"
   ]
  },
  {
   "cell_type": "markdown",
   "metadata": {},
   "source": [
    "----\n",
    "<a name=\"Histogram_Equalization\"></a>\n",
    "# 3. Histogram Equalization\n",
    "\n",
    "Histogram Equalization is a method that improves the contrast in an image, in order to stretch out the intensity range to fill the available space. \n",
    "\n",
    "> This method usually increases the global contrast of many images, especially when the usable data of the image is represented by close contrast values. Through this adjustment, the intensities can be better distributed on the histogram. This allows for areas of lower local contrast to gain a higher contrast. Histogram equalization accomplishes this by effectively spreading out the most frequent intensity values.\n",
    "\n",
    "> The method is useful in images with backgrounds and foregrounds that are both bright or both dark. In particular, the method can lead to better views of bone structure in x-ray images, and to better detail in photographs that are over or under-exposed. A key advantage of the method is that it is a fairly straightforward technique and an invertible operator. So in theory, if the histogram equalization function is known, then the original histogram can be recovered. The calculation is not computationally intensive. A disadvantage of the method is that it is indiscriminate. It may increase the contrast of background noise, while decreasing the usable signal.\n",
    "\n",
    "<p style=\"text-align: right;\"> <a href=\"https://en.wikipedia.org/wiki/Histogram_equalization\">Histogram Equalization - Wikipedia</a></p>\n",
    "\n",
    "This section shows different types of histogram equalizations on both grayscale and color images:\n",
    "\n",
    "### Grayscale Histogram Equalization"
   ]
  },
  {
   "cell_type": "code",
   "execution_count": null,
   "metadata": {},
   "outputs": [],
   "source": [
    "#Histogram Equalization on a grayscale image\n",
    "\n",
    "from skimage import exposure\n",
    "\n",
    "f, (ax1, ax2) = plt.subplots(2, 2,figsize=(20,10))\n",
    "\n",
    "ax1[0].imshow(gray,cmap='gray')\n",
    "ax1[0].set_title('Original Image')\n",
    "N, bins, patches = ax1[1].hist(gray.ravel(), bins=255, range=(0, 1), color='gray');\n",
    "ax1[1].set_title('Original Histogram')\n",
    "# Stuff to make the histogram bars pretty\n",
    "i = 0\n",
    "for thispatch in patches:\n",
    "    frac = i/len(patches)\n",
    "    thispatch.set_facecolor((frac,frac,frac))\n",
    "    i += 1\n",
    "\n",
    "gray2 = exposure.equalize_hist(gray)  ##Function actually doing the histgoram equalization\n",
    "\n",
    "\n",
    "ax2[0].imshow(gray2,cmap='gray')\n",
    "ax2[0].set_title('Equalized Image')\n",
    "N, bins, patches = ax2[1].hist(gray2.ravel(), bins=255, range=(0, 1), color='gray');\n",
    "ax2[1].set_title('Equalized Histogram')\n",
    "# Stuff to make the histogram bars pretty\n",
    "i = 0\n",
    "for thispatch in patches:\n",
    "    #color = plt.cm.viridis(i/len(patches))\n",
    "    frac = i/len(patches)\n",
    "    thispatch.set_facecolor((frac,frac,frac))\n",
    "    i += 1"
   ]
  },
  {
   "cell_type": "markdown",
   "metadata": {},
   "source": [
    "### Color Histogram Equalization\n",
    "\n",
    "Histogram equalization on color images can be completed in multiple ways. This section shows the following:\n",
    "\n",
    "- Histogram Equalization across all channels in RGB.  (**Note the UserWarning**)\n",
    "- Histogram Equalization across RGB channels independently.\n",
    "- Histogram Equalization across the S and V channels in an HSV image:"
   ]
  },
  {
   "cell_type": "code",
   "execution_count": null,
   "metadata": {},
   "outputs": [],
   "source": [
    "# Code snip-it to do do histogram equalization on an RGB image with R, B and G in the same histogram\n",
    "im2 = exposure.equalize_hist(im)\n",
    "\n",
    "f, (ax1, ax2) = plt.subplots(2, 2,figsize=(20,10))\n",
    "\n",
    "ax1[0].imshow(im)\n",
    "ax1[0].set_title('Original Image')\n",
    "\n",
    "ax1[1].hist(im.ravel(),bins=256);\n",
    "ax1[1].set_title('Original Histogram (Combined R,G,B)')\n",
    "\n",
    "ax2[0].set_title('Histogram Equailzation on entire rgb image')\n",
    "ax2[0].imshow(im2)\n",
    "ax2[1].hist(im2.ravel(),bins=256);\n",
    "ax2[1].set_title('Equalized Histogram (Combined R,G,B)')"
   ]
  },
  {
   "cell_type": "markdown",
   "metadata": {},
   "source": [
    "&#9989; **<font color=red>DO THIS:</font>** Try the above again with a different image. Pick some images from the internet and see if you can improve constrast using histogram equalization."
   ]
  },
  {
   "cell_type": "markdown",
   "metadata": {},
   "source": [
    "---\n",
    "\n",
    "Written by Dr. Dirk Colbry, Michigan State University\n",
    "<a rel=\"license\" href=\"http://creativecommons.org/licenses/by-nc/4.0/\"><img alt=\"Creative Commons License\" style=\"border-width:0\" src=\"https://i.creativecommons.org/l/by-nc/4.0/88x31.png\" /></a><br />This work is licensed under a <a rel=\"license\" href=\"http://creativecommons.org/licenses/by-nc/4.0/\">Creative Commons Attribution-NonCommercial 4.0 International License</a>."
   ]
  },
  {
   "cell_type": "markdown",
   "metadata": {},
   "source": [
    "----"
   ]
  }
 ],
 "metadata": {
  "anaconda-cloud": {},
  "kernelspec": {
   "display_name": "Python 3",
   "language": "python",
   "name": "python3"
  },
  "language_info": {
   "codemirror_mode": {
    "name": "ipython",
    "version": 3
   },
   "file_extension": ".py",
   "mimetype": "text/x-python",
   "name": "python",
   "nbconvert_exporter": "python",
   "pygments_lexer": "ipython3",
   "version": "3.7.3"
  },
  "widgets": {
   "state": {
    "64194f1e48e4403c8b8ef4ebdd689d4d": {
     "views": [
      {
       "cell_index": 7
      }
     ]
    }
   },
   "version": "1.2.0"
  }
 },
 "nbformat": 4,
 "nbformat_minor": 1
}
