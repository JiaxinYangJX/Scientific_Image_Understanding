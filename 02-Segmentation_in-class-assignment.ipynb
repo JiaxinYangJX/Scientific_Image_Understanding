{
 "cells": [
  {
   "cell_type": "markdown",
   "metadata": {},
   "source": [
    "[![Open in Colab](https://camo.githubusercontent.com/52feade06f2fecbf006889a904d221e6a730c194/68747470733a2f2f636f6c61622e72657365617263682e676f6f676c652e636f6d2f6173736574732f636f6c61622d62616467652e737667)](https://colab.research.google.com/github/colbrydi/Scientific_Image_Understanding/blob/master/02-Segmentation_in-class-assignment.ipynb)"
   ]
  },
  {
   "cell_type": "markdown",
   "metadata": {},
   "source": [
    "# In-Class Assignment: Segmentation\n",
    "\n",
    "<img src=\"http://lapix.ufsc.br/sms/results/thumb_comparison2.jpg\" width=\"50%\">\n",
    "\n",
    "Image from: http://lapix.ufsc.br/sms/segresults.html\n",
    "\n",
    "Today we will experiment with the color based thresholding.  You will work in groups to \"segment\" an image. The instructor will assign a different image and goal to each group.  As a group, figure out how to load the image, which colorspace to use and the best thresholds for segmentation.  Record your final answers at the bottom of the notebook. Your should only need to turn in one notebook per group (make sure you put all of your names at the top). \n"
   ]
  },
  {
   "cell_type": "markdown",
   "metadata": {},
   "source": [
    "### Agenda for today's class \n",
    "\n",
    "1. [Color Based Segmentation](#Color_Spaces_and_Segmentation)\n",
    "1. [Practice Example](#Practice_Example)"
   ]
  },
  {
   "cell_type": "markdown",
   "metadata": {},
   "source": [
    "----\n",
    "<a name=\"Color_Spaces_and_Segmentation\"></a>\n",
    "\n",
    "# 1. Color Spaces and Segmentation\n",
    "In this section we are going to explore different colorspaces for images.  Image data is generally represented as matrices of one or three dimentions.  A one dimentional image is a black and white image or grayscale image. A three dimentional image is represented as color."
   ]
  },
  {
   "cell_type": "code",
   "execution_count": null,
   "metadata": {},
   "outputs": [],
   "source": [
    "#The following code snip-it reads any file from the internet and saves it to your local directory.\n",
    "from urllib.request import urlopen, urlretrieve\n",
    "from imageio import imread, imsave\n",
    "from matplotlib.pylab import plt\n",
    "import numpy as np\n",
    "url = 'https://research.msu.edu/wp-content/uploads/2019/11/beaumont-winter.jpg'\n",
    "filename = 'boumont1.jpg'\n",
    "urlretrieve(url, filename);\n",
    "\n",
    "im = imread(filename)\n",
    "plt.figure(figsize=(20,10));\n",
    "plt.imshow(im)"
   ]
  },
  {
   "cell_type": "markdown",
   "metadata": {},
   "source": [
    "## Grayscale Images\n",
    "\n",
    "A grayscale image is typically one value per pixel and is generally represented as a gray value from black to white. \n"
   ]
  },
  {
   "cell_type": "code",
   "execution_count": null,
   "metadata": {},
   "outputs": [],
   "source": [
    "%matplotlib inline\n",
    "import matplotlib.pylab as plt\n",
    "import skimage.color as color\n",
    "\n",
    "gray = color.rgb2gray(im)\n",
    "\n",
    "plt.figure(figsize=(10,5));\n",
    "plt.imshow(gray, cmap='gray');\n",
    "plt.axis('off')\n",
    "plt.colorbar();"
   ]
  },
  {
   "cell_type": "markdown",
   "metadata": {},
   "source": [
    "# Binary Images\n",
    "Binary images are those that have only two possible values per pixel; Zero and one, True and False, etc. We can create a binary image using logical operators such as AND (&), OR (|) and NOT (!).  The following code takes two inputs gmin, gmax to make a binary image from the above grayscale image. \n",
    "\n",
    "&#9989; **<font color=red>DO THIS:</font>** Play with the sliders to adjust how the image is segmented by the minimum and maximum gray value"
   ]
  },
  {
   "cell_type": "code",
   "execution_count": null,
   "metadata": {},
   "outputs": [],
   "source": [
    "from ipywidgets import interactive,fixed\n",
    "\n",
    "def gray_threshold(im, gmin=0.0,gmax=1.0):\n",
    "    if im.ndim > 1:\n",
    "        im = color.rgb2gray(im)\n",
    "\n",
    "    b_img = ((im > gmin) & (im < gmax)); # Generate binary image\n",
    "    plt.figure(figsize = (10,20));\n",
    "    plt.imshow(b_img, cmap='gray', vmin=0, vmax=1);\n",
    "    plt.show();\n",
    "    return b_img*1;\n",
    "\n",
    "w = interactive(gray_threshold, im=fixed(gray),gmin=(0.0,1.0), gmax=(0.0,1.0),__manual=True);\n",
    "w"
   ]
  },
  {
   "cell_type": "markdown",
   "metadata": {},
   "source": [
    "# Red, Green, Blue (RGB) Colorspace\n",
    "\n",
    "Although not the most efficient way to represent color the RGB colorspace is the most common because it is based on the human eye which has three cells that are each tuned to a color spectrum as follows:\n",
    "\n",
    "<img src=\"https://www.unm.edu/~toolson/human_cone_action_spectra.gif\">"
   ]
  },
  {
   "cell_type": "code",
   "execution_count": null,
   "metadata": {},
   "outputs": [],
   "source": [
    "#Simple loop to print out the red, green and blue channels\n",
    "names = ['Red', 'Green', 'Blue'];\n",
    "f, ax = plt.subplots(1, 4,figsize=(20,10));\n",
    "\n",
    "for c in range(3):\n",
    "    c_im = np.ubyte(np.zeros(im.shape));\n",
    "    c_im[:,:,c] = im[:,:,c];\n",
    "    ax[c].imshow(c_im, cmap='gray');\n",
    "    ax[c].axis('off')\n",
    "    ax[c].set_title(names[c])\n",
    "\n",
    "ax[3].imshow(im);\n",
    "ax[3].axis('off');"
   ]
  },
  {
   "cell_type": "markdown",
   "metadata": {},
   "source": [
    "The following tool creates slider bars that you can use to play with the bounds on each of the color channels (red, green and blue).  \n",
    "\n",
    "&#9989; **<font color=red>DO THIS:</font>** Move the sliders segment out portions and find the best values that segment different components of the image."
   ]
  },
  {
   "cell_type": "code",
   "execution_count": null,
   "metadata": {},
   "outputs": [],
   "source": [
    "from ipywidgets import interactive,fixed\n",
    "\n",
    "def color_threshold(im, rmin=-1,rmax=256,gmin=-1,gmax=256,bmin=-1,bmax=256):\n",
    "    # Pull out the red, gree and blue matrixes\n",
    "    r = im[:,:,0];\n",
    "    g = im[:,:,1];\n",
    "    b = im[:,:,2];\n",
    "    b_img = ((r > rmin) & (r < rmax) & \n",
    "             (g > gmin) & (g < gmax) & \n",
    "             (b > bmin) & (b < bmax));\n",
    "    plt.figure(figsize = (10,20));\n",
    "    plt.imshow(b_img, cmap='gray', vmin=0, vmax=1);\n",
    "    plt.show();\n",
    "    return b_img*1;\n",
    "\n",
    "w = interactive(color_threshold, im=fixed(im),\n",
    "         rmin=(-1,256), rmax=(-1,256), \n",
    "         gmin=(-1,256), gmax=(-1,256), \n",
    "         bmin=(-1,256), bmax=(-1,256),__manual=True);\n",
    "w"
   ]
  },
  {
   "cell_type": "markdown",
   "metadata": {},
   "source": [
    "## The HSV colorspace\n",
    "\n",
    "There are many alternatives to the RGB colorspace which can represent the exact same values.  For example, the HSV colorspace treats the color as a single value (Hue) and separates the intensity in the second and third channels.  In many applications this can make color based segmentation of images much easier. \n",
    "\n",
    "\n",
    "<img src=\"https://i.stack.imgur.com/HBq9I.png\" width=\"35%\">\n",
    "\n",
    "\n",
    "Image from: https://dsp.stackexchange.com/questions/30238/what-is-the-difference-between-the-terms-color-intensity-and-color-saturation\n",
    "\n"
   ]
  },
  {
   "cell_type": "code",
   "execution_count": null,
   "metadata": {},
   "outputs": [],
   "source": [
    "import colorsys\n",
    "import matplotlib.colors as colors\n",
    "\n",
    "\n",
    "hsv = colors.rgb_to_hsv(im)\n",
    "f, (ax1, ax2, ax3, ax4) = plt.subplots(1, 4,figsize=(20,5))\n",
    "ax1.imshow(hsv[:,:,0], cmap='hsv')\n",
    "ax1.set_title('Hue - Color')\n",
    "ax1.set_axis_off()\n",
    "\n",
    "ax2.imshow(hsv[:,:,1],cmap='gray',vmin=0, vmax=1)\n",
    "ax2.set_title('Saturation - Amount of Color')\n",
    "ax2.set_axis_off()\n",
    "\n",
    "ax3.imshow(hsv[:,:,2],cmap='gray')\n",
    "ax3.set_title('Value - Brightness')\n",
    "ax3.set_axis_off()\n",
    "\n",
    "ax4.imshow(im)\n",
    "ax4.set_axis_off()"
   ]
  },
  {
   "cell_type": "markdown",
   "metadata": {},
   "source": [
    "The Hue channel by itself is often enough to separate pixels with different colors. "
   ]
  },
  {
   "cell_type": "code",
   "execution_count": null,
   "metadata": {},
   "outputs": [],
   "source": [
    "plt.figure(figsize=(10,5));\n",
    "plt.imshow(hsv[:,:,0], cmap='hsv');\n",
    "plt.colorbar();"
   ]
  },
  {
   "cell_type": "code",
   "execution_count": null,
   "metadata": {},
   "outputs": [],
   "source": [
    "from ipywidgets import interactive,fixed\n",
    "\n",
    "def hsv_threshold(im, hmin=-0.01,hmax=1.01):\n",
    "    # Pull out the red, gree and blue matrixes\n",
    "    hsv = colors.rgb_to_hsv(im)\n",
    "    h = hsv[:,:,0];\n",
    "    \n",
    "    # trick because the color space wraps\n",
    "    if hmin > hmax:\n",
    "        b_img = (h > hmin) | (h < hmax)\n",
    "    else:\n",
    "        b_img = (h > hmin) & (h < hmax);\n",
    "    \n",
    "    f, (ax1, ax3) = plt.subplots(1, 2,figsize=(20,5))\n",
    "    ax1.imshow(im)\n",
    "    ax1.set_axis_off()\n",
    "    \n",
    "    ax3.imshow(b_img,cmap='gray', vmin=0, vmax=1)\n",
    "    ax3.set_title('Value - Brightness')\n",
    "    ax3.set_axis_off()\n",
    "\n",
    "    plt.show()\n",
    "    return b_img*1;\n",
    "\n",
    "w = interactive(hsv_threshold, im=fixed(im), hmin=(-0.01,1.01,0.01), hmax=(-0.01,1.01,0.01),__manual=True);\n",
    "w"
   ]
  },
  {
   "cell_type": "markdown",
   "metadata": {},
   "source": [
    "Sometimes using all three channels in HSV can make segmentation even easier. "
   ]
  },
  {
   "cell_type": "code",
   "execution_count": null,
   "metadata": {},
   "outputs": [],
   "source": [
    "from ipywidgets import interactive,fixed\n",
    "\n",
    "def hsv_color_threshold(im, hmin=-0.01,hmax=1.01, smin=-0.01,smax=1.01,vmin=-1,vmax=256):\n",
    "    # Pull out the red, gree and blue matrixes\n",
    "    hsv = colors.rgb_to_hsv(im)\n",
    "    h = hsv[:,:,0];\n",
    "    s = hsv[:,:,1];\n",
    "    v = hsv[:,:,2];\n",
    "    \n",
    "    # trick because the color space wraps\n",
    "    if hmin > hmax:\n",
    "        b_img = (h > hmin) | (h < hmax)\n",
    "    else:\n",
    "        b_img = (h > hmin) & (h < hmax);\n",
    "    \n",
    "    \n",
    "    b_img = (b_img & \n",
    "         (s > smin) & (s < smax) & \n",
    "         (v > vmin) & (v < vmax));\n",
    "    \n",
    "    f, (ax1, ax2) = plt.subplots(1, 2,figsize=(20,5))\n",
    "    ax1.imshow(im)\n",
    "    ax1.set_axis_off()\n",
    "    \n",
    "    ax2.imshow(b_img,cmap='gray', vmin=0, vmax=1)\n",
    "    ax2.set_title('Value - Brightness')\n",
    "    ax2.set_axis_off()\n",
    "\n",
    "    plt.show()\n",
    "    return b_img*1;\n",
    "\n",
    "w = interactive(hsv_color_threshold, im=fixed(im),\n",
    "         hmin=(-0.01,1.01,0.01), hmax=(-0.01,1.01,0.01), \n",
    "         smin=(-0.01,1.01,0.01), smax=(-0.01,1.01,0.01), \n",
    "         vmin=(-1,256), vmax=(-1,256),__manual=True);\n",
    "w"
   ]
  },
  {
   "cell_type": "markdown",
   "metadata": {},
   "source": [
    "----\n",
    "<a name=\"Practice_Example\"></a>\n",
    "\n",
    "# 2. Practice Example\n",
    "\n",
    "&#9989; **<font color=red>DO THIS:</font>** Consider the following example image.  Based on what you have learned segment the image to only include the contents of the petri dish.  Feel free to work with your neighbor and try to figure out the following parts:\n",
    "\n",
    "- Find color thresholds to generate a binary image with just the dish\n",
    "- Create a three channel image that removes the background (sets it to black) and only keeps the dish. \n",
    "\n",
    "Be prepared to share your answer with the class. If you get the dish segmented see if you can then independently segment out the two different bacterial colonies found in the image. "
   ]
  },
  {
   "cell_type": "code",
   "execution_count": null,
   "metadata": {},
   "outputs": [],
   "source": [
    "url = 'https://goo.gl/cebwc1'\n",
    "file1 = 'Petri_dish1.jpg'\n",
    "urlretrieve(url, file1);\n",
    "\n",
    "im=imread(file1)\n",
    "plt.imshow(im)"
   ]
  },
  {
   "cell_type": "code",
   "execution_count": null,
   "metadata": {},
   "outputs": [],
   "source": [
    "# Put your segmentation code here."
   ]
  },
  {
   "cell_type": "markdown",
   "metadata": {},
   "source": [
    "&#9989; **<font color=red>QUESTION:</font>** Could we use machine learning to solve this problem?  What would our training and testing data look like?  "
   ]
  },
  {
   "cell_type": "markdown",
   "metadata": {},
   "source": [
    "Put your answer to the above question here."
   ]
  },
  {
   "cell_type": "markdown",
   "metadata": {},
   "source": [
    "----\n",
    "Written by Dr. Dirk Colbry, Michigan State University\n",
    "<a rel=\"license\" href=\"http://creativecommons.org/licenses/by-nc/4.0/\"><img alt=\"Creative Commons License\" style=\"border-width:0\" src=\"https://i.creativecommons.org/l/by-nc/4.0/88x31.png\" /></a><br />This work is licensed under a <a rel=\"license\" href=\"http://creativecommons.org/licenses/by-nc/4.0/\">Creative Commons Attribution-NonCommercial 4.0 International License</a>."
   ]
  },
  {
   "cell_type": "markdown",
   "metadata": {},
   "source": [
    "----"
   ]
  }
 ],
 "metadata": {
  "kernelspec": {
   "display_name": "Python 3",
   "language": "python",
   "name": "python3"
  },
  "language_info": {
   "codemirror_mode": {
    "name": "ipython",
    "version": 3
   },
   "file_extension": ".py",
   "mimetype": "text/x-python",
   "name": "python",
   "nbconvert_exporter": "python",
   "pygments_lexer": "ipython3",
   "version": "3.7.3"
  }
 },
 "nbformat": 4,
 "nbformat_minor": 1
}
