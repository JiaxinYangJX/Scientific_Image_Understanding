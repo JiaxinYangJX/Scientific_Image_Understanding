{
 "cells": [
  {
   "cell_type": "markdown",
   "metadata": {},
   "source": [
    "# In-Class Assignment: Bacterial Colony Counting\n",
    "\n",
    "<img src=\"https://lh6.googleusercontent.com/Y0ztWMEmnMlvCb6eQCasP7ZzqO8G8nzh_0aeTtPJoXBudt5b6f5kdA0io9Knfiva1IoCQaxOog=w580\" width=\"65%\">\n"
   ]
  },
  {
   "cell_type": "markdown",
   "metadata": {},
   "source": [
    "### Agenda for today's class (80 minutes)\n",
    "\n",
    "\n",
    "1. [Review pre-class assignment](#class_Assignment)\n",
    "2. [Download Petri Dish images for notebook](#Download_Petri_Dish_images_for_notebook)\n",
    "3. [Establishing \"Ground Truth\"](#Establishing_Ground_Truth)\n",
    "2. [Automated Colony Counting](#Automated_Colony_counting)\n"
   ]
  },
  {
   "cell_type": "markdown",
   "metadata": {},
   "source": [
    "---\n",
    "<a name=\"Download_Petri_Dish_images_for_notebook\"></a>\n",
    "\n",
    "# 1. Download Petri Dish images for notebook"
   ]
  },
  {
   "cell_type": "code",
   "execution_count": null,
   "metadata": {},
   "outputs": [],
   "source": [
    "#The following code snip-it downloads a file from internet and saves it to your local directory.\n",
    "%matplotlib inline\n",
    "import numpy as np\n",
    "from scipy import misc, ndimage\n",
    "from imageio import imread\n",
    "import matplotlib.pylab as plt\n",
    "from urllib.request import urlopen, urlretrieve\n",
    "\n",
    "url = 'https://goo.gl/cebwc1'\n",
    "file1 = 'Petri_dish1.jpg'\n",
    "urlretrieve(url, file1);\n",
    "\n",
    "url = 'https://goo.gl/P82yKZ'\n",
    "file2 = 'Petri_dish2.jpg'\n",
    "urlretrieve(url, file2);\n",
    "\n",
    "im1 = imread(file1)\n",
    "im2 = imread(file2)\n",
    "\n",
    "f, (ax1, ax2) = plt.subplots(1, 2,figsize=(20,10))\n",
    "ax1.imshow(im1)\n",
    "ax1.axis('off')\n",
    "ax1.set_title('Petri_dish1')\n",
    "ax2.imshow(im2)\n",
    "ax2.axis('off')\n",
    "ax2.set_title('Petri_dish2');"
   ]
  },
  {
   "cell_type": "markdown",
   "metadata": {},
   "source": [
    "&#9989; <font color=red>**DO THIS:**</font> Modify the following code to select petri dish 2 instead of petri dish 1"
   ]
  },
  {
   "cell_type": "code",
   "execution_count": null,
   "metadata": {},
   "outputs": [],
   "source": [
    "#Select your petri Dish (either im1 or im2)\n",
    "#Note this is just making a new name for the same variable...\n",
    "# i.e. any changes made to im are also made to im1\n",
    "# to make two different objects you need to do a copy (see below)\n",
    "\n",
    "im = im1"
   ]
  },
  {
   "cell_type": "markdown",
   "metadata": {},
   "source": [
    "----\n",
    "<a name=\"Establishing_Ground_Truth\"></a>\n",
    "\n",
    "# 2. Establishing \"Ground Truth\"\n",
    "\n",
    "For this assignment we will only count the total colonies your selected dish.  Consider the image below.  How do we determine if we have the \"right\" answer?"
   ]
  },
  {
   "cell_type": "code",
   "execution_count": null,
   "metadata": {},
   "outputs": [],
   "source": [
    "plt.figure(figsize=(20,10))\n",
    "plt.imshow(im)\n",
    "plt.axis('off')"
   ]
  },
  {
   "cell_type": "markdown",
   "metadata": {},
   "source": [
    "&#9989; <font color=red>**DO THIS:**</font> - record your manual findings for colony counts here:"
   ]
  },
  {
   "cell_type": "code",
   "execution_count": null,
   "metadata": {},
   "outputs": [],
   "source": [
    "# Store the estimates of colonie counts as python vectors (comma seperated values). \n",
    "# Note the values provided below are just random numbers selected to make the program do something.\n",
    "# Your group should change these numbers\n",
    "\n",
    "\n",
    "Manual_Colony_Count = [ 387, 402, 339 ]"
   ]
  },
  {
   "cell_type": "markdown",
   "metadata": {},
   "source": [
    "----\n",
    "<a name=\"Automated_Colony_counting\"></a>\n",
    "# 3. Automated Colony counting\n",
    "The following code attempts to automatically count the colonies in petri dish 1. The code has four basic parts:\n",
    "\n",
    "1. Background Subtraction - Remove everything that is not the petri dish.\n",
    "2. Colony Selection - Separate the colonies from the dish.\n",
    "3. Count Blobs - Use the labeling algorithm to count the colonies.\n",
    "4. Graph Results - Compare Manual Selection with Automated selection.\n",
    "\n",
    "You will modify the code as you see fit to clean up the segmentation and get the most accurate count.  \n",
    "\n",
    "\n",
    "### Step 1. Background Subtraction\n",
    "Notice in the first image (im1) the background near the top of the image outside of the pitri dish has a color similar to the colonies of interest.  The first thing we are going to do is create a mask identify everyting outisde of the pitri dish so we can easily ignore it later.  Notice that a simple color threshold of 133 results in true mostly outside of the dish and false inside of the dish:"
   ]
  },
  {
   "cell_type": "markdown",
   "metadata": {},
   "source": [
    "### Simple color threshold"
   ]
  },
  {
   "cell_type": "code",
   "execution_count": null,
   "metadata": {
    "scrolled": true
   },
   "outputs": [],
   "source": [
    "rmax=133\n",
    "background_mask = im[:,:,0] < rmax \n",
    "\n",
    "# Remove the background_mask from the original image\n",
    "forground_im = im.copy()\n",
    "forground_im[background_mask,:] = 0\n",
    "\n",
    "#Plot the results side-by-side with the original image\n",
    "f, (ax1, ax2) = plt.subplots(1, 2,figsize=(20,10))\n",
    "ax1.imshow(background_mask, cmap='gray')\n",
    "ax1.set_title('Background Mask')\n",
    "ax1.axis('off')\n",
    "ax2.imshow(forground_im)\n",
    "ax1.set_title('Masked Image')"
   ]
  },
  {
   "cell_type": "markdown",
   "metadata": {},
   "source": [
    "### Crop mask\n",
    "\n",
    "We still have some large errors at the top.  We could just chop off this part of the image by setting all of the image rows less than 90 to true:"
   ]
  },
  {
   "cell_type": "code",
   "execution_count": null,
   "metadata": {
    "scrolled": true
   },
   "outputs": [],
   "source": [
    "# Trick to trim off top of dish\n",
    "background_mask[0:90,:] = 1\n",
    "\n",
    "# Remove the background_mask from the original image\n",
    "forground_im = im.copy()\n",
    "forground_im[background_mask,:] = 0\n",
    "\n",
    "#Plot the results side-by-side with the original image\n",
    "f, (ax1, ax2) = plt.subplots(1, 2,figsize=(20,10))\n",
    "ax1.imshow(background_mask, cmap='gray')\n",
    "ax1.set_title('Background Mask')\n",
    "ax1.axis('off')\n",
    "ax2.imshow(forground_im)\n",
    "ax1.set_title('Masked Image')"
   ]
  },
  {
   "cell_type": "markdown",
   "metadata": {},
   "source": [
    "### Clean up the noise\n",
    "\n",
    "Now we can use dilation to get rid of the small black dots in the mask.  "
   ]
  },
  {
   "cell_type": "code",
   "execution_count": null,
   "metadata": {
    "scrolled": true
   },
   "outputs": [],
   "source": [
    "from scipy import ndimage\n",
    "\n",
    "after_dilation = ndimage.binary_dilation(background_mask, iterations=10)\n",
    "\n",
    "\n",
    "# Remove the background_mask from the original image\n",
    "forground_im = im.copy()\n",
    "forground_im[after_dilation,:] = 0\n",
    "\n",
    "#Plot the results side-by-side with the original image\n",
    "f, (ax1, ax2) = plt.subplots(1, 2,figsize=(20,10))\n",
    "ax1.imshow(after_dilation, cmap='gray')\n",
    "ax1.set_title('Background Mask')\n",
    "ax1.axis('off')\n",
    "ax2.imshow(forground_im)\n",
    "ax1.set_title('Masked Image')"
   ]
  },
  {
   "cell_type": "markdown",
   "metadata": {},
   "source": [
    "----\n",
    "\n",
    "### Step 2. Colony Selection\n",
    "\n",
    "Using the background mask from above we can now focus only on the petri dish.  This code tries to segment out both the TypeA and TypeB colonies."
   ]
  },
  {
   "cell_type": "code",
   "execution_count": null,
   "metadata": {},
   "outputs": [],
   "source": [
    "im = forground_im"
   ]
  },
  {
   "cell_type": "code",
   "execution_count": null,
   "metadata": {},
   "outputs": [],
   "source": [
    "#Code snipit from previous class to show image as HSV\n",
    "import colorsys\n",
    "import matplotlib.colors as colors\n",
    "\n",
    "hsv = colors.rgb_to_hsv(im)\n",
    "f, (ax1, ax2, ax3, ax4) = plt.subplots(1, 4,figsize=(20,5))\n",
    "ax1.imshow(hsv[:,:,0], cmap='hsv')\n",
    "ax1.set_title('Hue - Color')\n",
    "ax1.set_axis_off()\n",
    "\n",
    "ax2.imshow(hsv[:,:,1],cmap='gray',vmin=0, vmax=1)\n",
    "ax2.set_title('Saturation - Amount of Color')\n",
    "ax2.set_axis_off()\n",
    "\n",
    "ax3.imshow(hsv[:,:,2],cmap='gray')\n",
    "ax3.set_title('Value - Brightness')\n",
    "ax3.set_axis_off()\n",
    "\n",
    "ax4.imshow(im)\n",
    "ax4.set_axis_off()"
   ]
  },
  {
   "cell_type": "code",
   "execution_count": null,
   "metadata": {},
   "outputs": [],
   "source": [
    "#Code Snipit from previous class to show H channel of HSV with a colorbar\n",
    "plt.figure(figsize=(10,5));\n",
    "plt.imshow(hsv[:,:,0], cmap='hsv');\n",
    "plt.colorbar();"
   ]
  },
  {
   "cell_type": "code",
   "execution_count": null,
   "metadata": {},
   "outputs": [],
   "source": [
    "#Code snipit from previous class to find best thresholds for HSV Colorspace\n",
    "from ipywidgets import interactive,fixed\n",
    "\n",
    "def hsv_color_threshold(im, hmin=-0.01,hmax=1.01, smin=-0.01,smax=1.01,vmin=-1,vmax=256):\n",
    "    # Pull out the red, gree and blue matrixes\n",
    "    hsv = colors.rgb_to_hsv(im)\n",
    "    h = hsv[:,:,0];\n",
    "    s = hsv[:,:,1];\n",
    "    v = hsv[:,:,2];\n",
    "    \n",
    "    # trick because the color space wraps\n",
    "    if hmin > hmax:\n",
    "        b_img = (h > hmin) | (h < hmax)\n",
    "    else:\n",
    "        b_img = (h > hmin) & (h < hmax);\n",
    "    \n",
    "    \n",
    "    b_img = (b_img & \n",
    "         (s > smin) & (s < smax) & \n",
    "         (v > vmin) & (v < vmax));\n",
    "    \n",
    "    f, (ax1, ax2) = plt.subplots(1, 2,figsize=(20,5))\n",
    "    ax1.imshow(im)\n",
    "    ax1.set_axis_off()\n",
    "    \n",
    "    ax2.imshow(b_img,cmap='gray', vmin=0, vmax=1)\n",
    "    ax2.set_title('Value - Brightness')\n",
    "    ax2.set_axis_off()\n",
    "\n",
    "    plt.show()\n",
    "    return b_img*1;\n",
    "\n",
    "slider_widget = interactive(hsv_color_threshold, im=fixed(im),\n",
    "                            hmin=(-0.01,1.01,0.01), hmax=(-0.01,1.01,0.01), \n",
    "                            smin=(-0.01,1.01,0.01), smax=(-0.01,1.01,0.01), \n",
    "                            vmin=(-1,256), vmax=(-1,256),__manual=True);\n",
    "slider_widget"
   ]
  },
  {
   "cell_type": "code",
   "execution_count": null,
   "metadata": {},
   "outputs": [],
   "source": [
    "#THis code pulls out the thresholds from the slider widget used above\n",
    "hmin = slider_widget.children[0].value\n",
    "hmax = slider_widget.children[1].value\n",
    "smin = slider_widget.children[2].value\n",
    "smax = slider_widget.children[3].value\n",
    "vmin = slider_widget.children[4].value\n",
    "vmax = slider_widget.children[5].value\n",
    "\n",
    "print('hmin=',hmin)\n",
    "print('hmax=',hmax)\n",
    "print('smin=',smin)\n",
    "print('smax=',smax)\n",
    "print('vmin=',vmin)\n",
    "print('vmax=',vmax)\n"
   ]
  },
  {
   "cell_type": "markdown",
   "metadata": {},
   "source": [
    "If you stop and restart this notebook the threshold values will get reset. Copy and paste the best values from above into the following cell so you will not loose them. "
   ]
  },
  {
   "cell_type": "code",
   "execution_count": null,
   "metadata": {},
   "outputs": [],
   "source": [
    "# Type your thresholds here so you can remember what you picked (should be able to just copy and paste from above)\n",
    "hmin= 0.86\n",
    "hmax= 1.01\n",
    "smin= 0.05\n",
    "smax= 1.01\n",
    "vmin= 137\n",
    "vmax= 256"
   ]
  },
  {
   "cell_type": "code",
   "execution_count": null,
   "metadata": {
    "scrolled": true
   },
   "outputs": [],
   "source": [
    "# Code to visualize the segmentation from above\n",
    "hsv = colors.rgb_to_hsv(im)\n",
    "\n",
    "h1 = hsv[:,:,0] > hmin \n",
    "h2 = hsv[:,:,0] < hmax \n",
    "s1 = hsv[:,:,1] > smin\n",
    "s2 = hsv[:,:,1] < smax\n",
    "v1 = hsv[:,:,2] > vmin\n",
    "v2 = hsv[:,:,2] < vmax\n",
    "\n",
    "binary_image = h1 & h2 & s1 & s2 & v1 & v2 & ~(after_dilation)\n",
    "\n",
    "\n",
    "im_background = im.copy()\n",
    "im_background[binary_image] = 0\n",
    "\n",
    "#Plot the results side-by-side with the original image\n",
    "f, (ax1, ax2) = plt.subplots(1, 2,figsize=(20,10))\n",
    "ax1.imshow(im_background)\n",
    "ax1.axis('off')\n",
    "ax2.imshow(binary_image, cmap='gray')\n",
    "ax2.axis('off')\n"
   ]
  },
  {
   "cell_type": "markdown",
   "metadata": {},
   "source": [
    "### Clean up the noise\n",
    "\n",
    "Remove speckle noise using dilation and Erosion"
   ]
  },
  {
   "cell_type": "code",
   "execution_count": null,
   "metadata": {},
   "outputs": [],
   "source": [
    "\n",
    "after_dilation = ndimage.binary_dilation(binary_image, iterations=2)\n",
    "after_erosion  = ndimage.binary_erosion(after_dilation, iterations=2)\n",
    "\n",
    "\n",
    "# Remove the background_mask from the original image\n",
    "forground_im = im.copy()\n",
    "forground_im[after_dilation,:] = 0\n",
    "\n",
    "#Plot the results side-by-side with the original image\n",
    "f, (ax1, ax2) = plt.subplots(1, 2,figsize=(20,10))\n",
    "\n",
    "ax1.imshow(forground_im)\n",
    "ax1.set_title('Background Image')\n",
    "\n",
    "ax2.imshow(~after_dilation, cmap='gray')\n",
    "ax2.set_title('Background Mask')\n",
    "ax2.axis('off')"
   ]
  },
  {
   "cell_type": "markdown",
   "metadata": {},
   "source": [
    "### Check results\n",
    "\n",
    "Which colonies did we miss?"
   ]
  },
  {
   "cell_type": "code",
   "execution_count": null,
   "metadata": {},
   "outputs": [],
   "source": [
    "im_background = im.copy()\n",
    "im_background[after_dilation] = 0\n",
    "\n",
    "#Plot the results side-by-side with the original image\n",
    "f, (ax1, ax2) = plt.subplots(1, 2,figsize=(20,10))\n",
    "ax1.imshow(im_background, cmap='gray')\n",
    "ax1.axis('off')\n",
    "ax2.imshow(after_dilation)\n",
    "ax2.axis('off')"
   ]
  },
  {
   "cell_type": "markdown",
   "metadata": {},
   "source": [
    "----\n",
    "### Step 3. Object Counting\n",
    "\n",
    "We can count the number of objects in the image using the label function inside of ```ndimage.measurements``` library:"
   ]
  },
  {
   "cell_type": "code",
   "execution_count": null,
   "metadata": {
    "scrolled": true
   },
   "outputs": [],
   "source": [
    "lab, num_features = ndimage.measurements.label(binary_image)\n",
    "plt.imshow(lab, cmap='jet')\n",
    "plt.colorbar()\n",
    "plt.title(('A Total of',num_features,'colonies found'))"
   ]
  },
  {
   "cell_type": "markdown",
   "metadata": {},
   "source": [
    "----\n",
    "\n",
    "### Step 4. Graph Results\n",
    "\n",
    "This final step will take the results from above and graph them as a bar chart for comparison."
   ]
  },
  {
   "cell_type": "code",
   "execution_count": null,
   "metadata": {},
   "outputs": [],
   "source": [
    "#Calculate the mean and standard deviation for manual colony counts\n",
    "N = len(Manual_Colony_Count)\n",
    "m_mean = np.mean(Manual_Colony_Count)\n",
    "m_std = np.std(Manual_Colony_Count)"
   ]
  },
  {
   "cell_type": "code",
   "execution_count": null,
   "metadata": {
    "scrolled": false
   },
   "outputs": [],
   "source": [
    "# Plot the results\n",
    "\n",
    "ind = np.arange(2)  # the x locations for the groups\n",
    "\n",
    "fig, ax = plt.subplots(figsize=(10,5))\n",
    "rects1 = ax.bar(0, m_mean, color='green', yerr=m_std)\n",
    "rects2 = ax.bar(1, num_features, color='red')\n",
    "\n",
    "# add some text for labels, title and axes ticks\n",
    "ax.set_ylabel('Number of Colonies')\n",
    "ax.set_title('Counting Comparison')\n",
    "ax.set_xticks([0,1])\n",
    "ax.set_xticklabels(('Manual', 'Automated'))"
   ]
  },
  {
   "cell_type": "markdown",
   "metadata": {},
   "source": [
    "----\n",
    "Written by Dr. Dirk Colbry, Michigan State University\n",
    "<a rel=\"license\" href=\"http://creativecommons.org/licenses/by-nc/4.0/\"><img alt=\"Creative Commons License\" style=\"border-width:0\" src=\"https://i.creativecommons.org/l/by-nc/4.0/88x31.png\" /></a><br />This work is licensed under a <a rel=\"license\" href=\"http://creativecommons.org/licenses/by-nc/4.0/\">Creative Commons Attribution-NonCommercial 4.0 International License</a>."
   ]
  },
  {
   "cell_type": "markdown",
   "metadata": {},
   "source": [
    "----"
   ]
  }
 ],
 "metadata": {
  "kernelspec": {
   "display_name": "Python 3",
   "language": "python",
   "name": "python3"
  },
  "language_info": {
   "codemirror_mode": {
    "name": "ipython",
    "version": 3
   },
   "file_extension": ".py",
   "mimetype": "text/x-python",
   "name": "python",
   "nbconvert_exporter": "python",
   "pygments_lexer": "ipython3",
   "version": "3.7.3"
  }
 },
 "nbformat": 4,
 "nbformat_minor": 1
}
