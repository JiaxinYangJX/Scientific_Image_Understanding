{
 "cells": [
  {
   "cell_type": "markdown",
   "metadata": {},
   "source": [
    "<a href=\"https://colab.research.google.com/github/colbrydi/Scientific_Image_Understanding/blob/master/05-Registration-pre-class-assignment.ipynb\"><img src=\"https://camo.githubusercontent.com/52feade06f2fecbf006889a904d221e6a730c194/68747470733a2f2f636f6c61622e72657365617263682e676f6f676c652e636f6d2f6173736574732f636f6c61622d62616467652e737667\"></a>"
   ]
  },
  {
   "cell_type": "markdown",
   "metadata": {},
   "source": [
    "# Pre-Class Assignment: Image Registration\n",
    "\n"
   ]
  },
  {
   "cell_type": "markdown",
   "metadata": {},
   "source": [
    "# Goals for today's pre-class assignment \n",
    "\n",
    "1. [Image Registration](#Image-Registration)\n",
    "2. [Basic Rigid Transforms](#Basic-Rigid-Transforms)\n",
    "3. [ Affine Transforms](#-Affine-Transforms)\n",
    "4. [Projective Transformations](#Projective-Transformations)\n",
    "5. [Homography](#Homography)\n",
    "\n",
    "\n"
   ]
  },
  {
   "cell_type": "markdown",
   "metadata": {},
   "source": [
    "\n",
    "---\n",
    "<a name=Image-Registration></a>\n",
    "# 1. Image Registration\n",
    "\n"
   ]
  },
  {
   "cell_type": "markdown",
   "metadata": {},
   "source": [
    "Image registration is the process of transforming different sets of image data into a common coordinate system.  This is like moving one image on top of another image.  A reasonable overview for image Registration can be found here;\n",
    "\n",
    "https://en.wikipedia.org/wiki/Image_registration\n",
    "\n",
    "Consider the following example of two pictures of Beaumont Tower at Michigan State university:"
   ]
  },
  {
   "cell_type": "code",
   "execution_count": null,
   "metadata": {},
   "outputs": [],
   "source": [
    "# Read data for this assignment\n",
    "%matplotlib inline \n",
    "import matplotlib.pyplot as plt\n",
    "from urllib.request import urlopen, urlretrieve\n",
    "from imageio import imread, imsave\n",
    "\n",
    "url1 = 'http://res.cloudinary.com/miles-extranet-dev/image/upload/ar_16:9,c_fill,w_1000,g_face,q_50/Michigan/migration_photos/G21696/G21696-msubeaumonttower01.jpg'\n",
    "file1='Tower1.jpeg'\n",
    "urlretrieve(url1, file1)\n",
    "im1 = imread(file1)\n",
    "    \n",
    "\n",
    "url2 = 'https://research.msu.edu/wp-content/uploads/2019/11/beaumont-winter.jpg'\n",
    "file2 = 'Tower2.jpeg'\n",
    "urlretrieve(url2, file2)\n",
    "im2= imread(file2)\n",
    "    \n",
    "\n",
    "f, (ax1, ax2) = plt.subplots(1, 2,figsize=(20,10))\n",
    "ax1.imshow(im1)\n",
    "ax2.imshow(im2)"
   ]
  },
  {
   "cell_type": "markdown",
   "metadata": {},
   "source": [
    "\n",
    "\n",
    "---\n",
    "<a name=Basic-Rigid-Transforms></a>\n",
    "# 2. Basic Rigid Transforms\n",
    "\n",
    "\n",
    "\n",
    "\n",
    "**&#9989;  DO THIS:** Use the following code and sliders to register the second image onto the first image. Try to find the best fit so that the towers line up exactly.  \n",
    "\n",
    "The sliders will let you change the scale (s), x translation (tx), y-translation (ty), and rotation angle (angle).  You can also adjust the alpha measure to help \"see though\" one image into the other."
   ]
  },
  {
   "cell_type": "code",
   "execution_count": null,
   "metadata": {},
   "outputs": [],
   "source": [
    "from __future__ import division\n",
    "import matplotlib.pyplot as plt\n",
    "import numpy as np\n",
    "from skimage import transform\n",
    "from ipywidgets import interact, fixed\n",
    "import warnings\n",
    "\n",
    "warnings.simplefilter(action='ignore', category=FutureWarning)\n",
    "\n",
    "im = im1\n",
    "def affine_image(im1, im2, s=1,tx=0,ty=0, angle=0, alpha=0.5):\n",
    "    theta = -angle/180  * np.pi\n",
    "    \n",
    "    dx = tx*im.shape[1]\n",
    "    dy = ty*im.shape[0]\n",
    "    S = np.matrix([[1/s,0,0], [0,1/s,0], [0,0,1]])\n",
    "    T2 = np.matrix([[1,0,im.shape[1]/2], [0,1,im.shape[0]/2], [0,0,1]])\n",
    "    T1 = np.matrix([[1,0,-im.shape[1]/2-dx], [0,1,-im.shape[0]/2-dy], [0,0,1]])\n",
    "    R = np.matrix([[np.cos(theta),-np.sin(theta),0],[np.sin(theta), np.cos(theta),0],[0,0,1]])\n",
    "\n",
    "    T = T2*S*R*T1;\n",
    "    img = transform.warp(im, T);\n",
    "    plt.imshow(im2);\n",
    "    plt.imshow(img, alpha=alpha);\n",
    "\n",
    "    plt.show();\n",
    "    \n",
    "interact(affine_image, \n",
    "         im1=fixed(im1), \n",
    "         im2=fixed(im2), \n",
    "         s=(0.001,5), \n",
    "         tx=(-1.0,1.0), \n",
    "         ty=(-1,1,0.1), \n",
    "         angle=(-180,180), \n",
    "         alpha=(0.0,1.0)); \n"
   ]
  },
  {
   "cell_type": "markdown",
   "metadata": {},
   "source": [
    "\n",
    "---\n",
    "<a name=-Affine-Transforms></a>\n",
    "# 3.  Affine Transforms\n",
    "\n",
    "\n",
    "The above example is for an Rigid body transform.  However, more complex transformations are possible.  Watch the following video to learn more about Affine Transforms."
   ]
  },
  {
   "cell_type": "code",
   "execution_count": null,
   "metadata": {
    "scrolled": true
   },
   "outputs": [],
   "source": [
    "from IPython.display import YouTubeVideo\n",
    "YouTubeVideo(\"il6Z5LCykZk\",width=640,height=360)"
   ]
  },
  {
   "cell_type": "markdown",
   "metadata": {},
   "source": [
    "\n",
    "\n",
    "\n",
    "---\n",
    "<a name=Projective-Transformations></a>\n",
    "# 4. Projective Transformations\n",
    "\n",
    "\n",
    "\n",
    "\n",
    "Projective transforms add additional degrees of freedom and can \"skew\" an image. Watch the following video on Projective Transforms.  "
   ]
  },
  {
   "cell_type": "code",
   "execution_count": null,
   "metadata": {
    "scrolled": false
   },
   "outputs": [],
   "source": [
    "from IPython.display import YouTubeVideo\n",
    "YouTubeVideo(\"uyYKPUZg3og\",width=640,height=360)"
   ]
  },
  {
   "cell_type": "markdown",
   "metadata": {},
   "source": [
    "\n",
    "---\n",
    "<a name=Homography></a>\n",
    "# 5. Homography\n",
    "\n",
    "The Homography operations calculates a projective transformation using a set of points on one plain mapped to a similar set of points on a different plain. Since images often represent plains this turns out to be a useful registration method in image analysis. More information about the math can be found here:\n",
    "\n",
    "https://en.wikipedia.org/wiki/Homography_(computer_vision)\n",
    "\n",
    "and\n",
    "\n",
    "http://people.scs.carleton.ca/~c_shu/Courses/comp4900d/notes/homography.pdf"
   ]
  },
  {
   "cell_type": "markdown",
   "metadata": {},
   "source": [
    "Consider the following example code from a psychological study in game theory.  The researcher would like to have a computer watch a game between two checkers players and analysis their moves.  To do this they need to register the checkboards to the same grid.  The code below uses the ```skimage.transform.ProjectiveTransform``` which calculates the transform using homography."
   ]
  },
  {
   "cell_type": "code",
   "execution_count": null,
   "metadata": {},
   "outputs": [],
   "source": [
    "#The following code snip-it downloads a file from internet and saves it to your local directory.\n",
    "from urllib.request import urlopen, urlretrieve\n",
    "import scipy.misc as misc\n",
    "\n",
    "url = 'https://goo.gl/j2SFnL'\n",
    "file1 = 'Checkers.png'\n",
    "urlretrieve(url, file1);\n",
    "im = imread(file1)\n",
    "\n",
    "#Points in source image coordinate system\n",
    "src = np.array([[156, 197],[284, 181],[407, 177],[172, 296],[318, 275],[452, 264],[190, 418],[359, 387],[507, 371]])"
   ]
  },
  {
   "cell_type": "code",
   "execution_count": null,
   "metadata": {},
   "outputs": [],
   "source": [
    "#Calculate Transform\n",
    "from skimage import transform\n",
    "\n",
    "width=1000\n",
    "\n",
    "#Points in desitnation coordinate system\n",
    "dst = np.array([[0, width/2, width, 0, width/2, width, 0, width/2, width,], \n",
    "                [0, 0, 0, width/2, width/2, width/2, width, width, width]]).T\n",
    "\n",
    "#Calculate projective transform from the source to the destination\n",
    "tform = transform.ProjectiveTransform()\n",
    "tform.estimate(dst, src)\n",
    "im2 = transform.warp(im, tform, output_shape=(width,width)) \n"
   ]
  },
  {
   "cell_type": "code",
   "execution_count": null,
   "metadata": {},
   "outputs": [],
   "source": [
    "import sympy as sym\n",
    "sym\n",
    "sym.Matrix(tform.params)"
   ]
  },
  {
   "cell_type": "code",
   "execution_count": null,
   "metadata": {
    "scrolled": false
   },
   "outputs": [],
   "source": [
    "#show original image next to transformed image\n",
    "\n",
    "f, (ax1, ax2) = plt.subplots(1, 2,figsize=(20,10))\n",
    "ax1.imshow(im)\n",
    "ax1.scatter(src[:,0],src[:,1])\n",
    "#Add numbers\n",
    "for i in range(dst.shape[0]):\n",
    "    ax1.annotate(str(i+1), (src[i,0]+20,src[i,1]), color='white');\n",
    "ax1.set_title('Source Plain')\n",
    "\n",
    "\n",
    "ax2.imshow(im2)\n",
    "ax2.scatter(dst[:,0],dst[:,1])\n",
    "#Add numbers\n",
    "for i in range(dst.shape[0]):\n",
    "    ax2.annotate(str(i+1), (dst[i,0]+20,dst[i,1]));\n",
    "ax2.set_title('Destination Plain')\n",
    "ax2.axis('equal');"
   ]
  },
  {
   "cell_type": "markdown",
   "metadata": {},
   "source": [
    "---\n",
    "\n",
    "Written by Dr. Dirk Colbry, Michigan State University\n",
    "<a rel=\"license\" href=\"http://creativecommons.org/licenses/by-nc/4.0/\"><img alt=\"Creative Commons License\" style=\"border-width:0\" src=\"https://i.creativecommons.org/l/by-nc/4.0/88x31.png\" /></a><br />This work is licensed under a <a rel=\"license\" href=\"http://creativecommons.org/licenses/by-nc/4.0/\">Creative Commons Attribution-NonCommercial 4.0 International License</a>."
   ]
  },
  {
   "cell_type": "markdown",
   "metadata": {},
   "source": [
    "---"
   ]
  }
 ],
 "metadata": {
  "anaconda-cloud": {},
  "kernelspec": {
   "display_name": "Python 3",
   "language": "python",
   "name": "python3"
  },
  "language_info": {
   "codemirror_mode": {
    "name": "ipython",
    "version": 3
   },
   "file_extension": ".py",
   "mimetype": "text/x-python",
   "name": "python",
   "nbconvert_exporter": "python",
   "pygments_lexer": "ipython3",
   "version": "3.7.3"
  }
 },
 "nbformat": 4,
 "nbformat_minor": 1
}
