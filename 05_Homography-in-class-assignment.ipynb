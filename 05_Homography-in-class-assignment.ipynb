{
 "cells": [
  {
   "cell_type": "markdown",
   "metadata": {},
   "source": [
    "# In-Class Assignment: Homography\n",
    "\n",
    "\n",
    "<img src=\"https://lh5.googleusercontent.com/T7SNdiXctkIi2iWHjjdAZCRBASzRjysFkmivxtD8cZ80QlKFPjOeYa--uiDoHEUdb7daadZQ-fW-l0SVBQJDj90vPFaCKke9JSf6jf8Rk71zpy62TP_hmBpdFONBoA=w740\" width=\"100%\">"
   ]
  },
  {
   "cell_type": "markdown",
   "metadata": {},
   "source": [
    "### Agenda for today's class:\n",
    "\n",
    "\n",
    "1. Another Homography Example\n",
    "1. Useful Tools for Image and Video Manipulation\n",
    "1. Video Registration"
   ]
  },
  {
   "cell_type": "markdown",
   "metadata": {},
   "source": [
    "----\n",
    "# 1.  Homography Example\n",
    "\n",
    "The following code downloads three images. We would like to pick points and evaluate the homography transform similar to the pre-class assignment.  \n",
    "\n",
    "This example uses some experimental code designed to enable the selecting of points inside an image.  To get this code to work you will need to install the ```mpld3``` library and add the installation path to the notebook. \n",
    "\n",
    "**&#9989; DO THIS:** Remove the comment (#) from the following line of code and run the cell to install mpld3.  You only need to do this once so make sure you put the comment back in:\n"
   ]
  },
  {
   "cell_type": "code",
   "execution_count": null,
   "metadata": {},
   "outputs": [],
   "source": [
    "# The following command will install mpld3 - Uncomment and run once.\n",
    "!pip install -t ./packages mpld3 "
   ]
  },
  {
   "cell_type": "markdown",
   "metadata": {},
   "source": [
    "**&#9989; DO THIS:** Next, run the following cells to add the folder where we installed ```mpld3``` download the images and start the point picking program."
   ]
  },
  {
   "cell_type": "code",
   "execution_count": null,
   "metadata": {},
   "outputs": [],
   "source": [
    "#Add Packages folder to path (Do only once per run of notebook:\n",
    "from sys import path\n",
    "package_folder = './packages'\n",
    "if not package_folder in path:\n",
    "    print('adding packages')\n",
    "    path.append(package_folder)\n",
    "else:\n",
    "    print('found packages folder')"
   ]
  },
  {
   "cell_type": "code",
   "execution_count": null,
   "metadata": {
    "scrolled": true
   },
   "outputs": [],
   "source": [
    "#The following code snip-it downloads a file from internet and saves it to your local directory.\n",
    "from urllib.request import urlopen, urlretrieve\n",
    "import scipy.misc as misc\n",
    "\n",
    "urls = []\n",
    "files = []\n",
    "ims = []\n",
    "\n",
    "urls.append('https://goo.gl/93bGGW')\n",
    "files.append('./Images/Digit1.png')\n",
    "\n",
    "urls.append('https://goo.gl/GbPB9S')\n",
    "files.append('./Images/Digit2.png')\n",
    "\n",
    "urls.append('https://goo.gl/ErQt14')\n",
    "files.append('./Images/Digit3.png')\n",
    "\n",
    "for url,file in zip(urls,files):\n",
    "    urlretrieve(url, file);\n",
    "    ims.append(misc.imread(file))"
   ]
  },
  {
   "cell_type": "code",
   "execution_count": null,
   "metadata": {},
   "outputs": [],
   "source": [
    "#pick a point\n",
    "im = ims[0]"
   ]
  },
  {
   "cell_type": "code",
   "execution_count": null,
   "metadata": {},
   "outputs": [],
   "source": [
    "# Code snipit to make point seleciton function (REQUIRES mpld3 installed)\n",
    "\n",
    "#NOTE this is highly experimental code and may not work as expected on your computer.\n",
    "\n",
    "%matplotlib inline \n",
    "import matplotlib.pyplot as plt\n",
    "import matplotlib.image as img\n",
    "import numpy as np\n",
    "import sys\n",
    "\n",
    "import mpld3\n",
    "from mpld3 import plugins\n",
    "\n",
    "\n",
    "# MAIN CLASS THAT CONTAINS JAVASCRIPT CODE TO CREATE CIRCLES AND DRAG CIRCLES  \n",
    "class Annotate(plugins.PluginBase):\n",
    "    \"\"\"A plugin that creates points in a figure by clicking the mouse\"\"\"\n",
    "   \n",
    "    JAVASCRIPT = r\"\"\"\n",
    "    mpld3.register_plugin(\"annotate\", Annotate);\n",
    "    Annotate.prototype = Object.create(mpld3.Plugin.prototype);\n",
    "    Annotate.prototype.constructor = Annotate;\n",
    "    Annotate.prototype.requiredProps = [];\n",
    "    Annotate.prototype.defaultProps = {radius: 4, color: \"white\", x: 'x', y: 'y'};\n",
    "    function Annotate(fig, props){\n",
    "        mpld3.Plugin.call(this, fig, props);\n",
    "    };\n",
    "\n",
    "    Annotate.prototype.draw = function(){\n",
    "        \n",
    "        /// NECESSARY STARTUP VARIABLES ///\n",
    "        \n",
    "        var fig = this.fig;\n",
    "        var ax = fig.axes;\n",
    "        var dataset = [];\n",
    "        var svg = d3.select(\".mpld3-figure\");   // existing svg element\n",
    "        var radius = this.props.radius;\n",
    "        var color = this.props.color;\n",
    "        var x = this.props.x;\n",
    "        var y = this.props.y;\n",
    "        var ax = fig.axes[0];\n",
    "        \n",
    "        \n",
    "        /// INDEXES HTML DOC TO PULL VALUES FOR x,y CALIBRATION ///\n",
    "        var xcal = this.parent.axes[0].position[0];\n",
    "        var ycal = this.parent.axes[0].position[1];\n",
    "        console.log('x calibration: ' + xcal);\n",
    "        console.log('y calibration: ' + ycal);\n",
    "        \n",
    "        var xcommand = x+\" = []\";\n",
    "        IPython.notebook.kernel.execute(xcommand);\n",
    "        var ycommand = y+\" = []\";\n",
    "        IPython.notebook.kernel.execute(ycommand);\n",
    "        \n",
    "        \n",
    "        ////////// CREATE POINT COMPONENT //////////\n",
    "        \n",
    "        var update_coords = function() {\n",
    "        \n",
    "            return function() {\n",
    "                var pos = d3.mouse(this),\n",
    "                    xpos = ax.x.invert(pos[0]),\n",
    "                    ypos = ax.y.invert(pos[1]);\n",
    "                    \n",
    "                var newpoint = {\n",
    "                    cx: pos[0] + xcal,\n",
    "                    cy: pos[1] + ycal,\n",
    "                    r: radius,\n",
    "                    fill: color\n",
    "                };\n",
    "                dataset.push(newpoint);\n",
    "                \n",
    "                var circles = svg.selectAll(\"circle\")\n",
    "                    .data(dataset)\n",
    "                    .enter()\n",
    "                    .append(\"circle\")\n",
    "                    .attr(newpoint)\n",
    "                    .call(drag);\n",
    "                       \n",
    "                var xcommand = x+\".append(\"+xpos+\")\";\n",
    "                IPython.notebook.kernel.execute(xcommand);\n",
    "                console.log(xcommand);\n",
    "                var ycommand = y+\".append(\"+ypos+\")\";\n",
    "                IPython.notebook.kernel.execute(ycommand);\n",
    "                console.log(ycommand);\n",
    "                   \n",
    "            };\n",
    "        }();\n",
    "        ax.baseaxes\n",
    "            .on(\"mousedown\", update_coords);\n",
    "\n",
    "        ////////// DRAG POINT COMPONENT //////////\n",
    "        \n",
    "        var drag = d3.behavior.drag()\n",
    "            .on(\"dragstart\", dragstarted)\n",
    "            .on(\"drag\", dragged)\n",
    "            .on(\"dragend\", dragended);\n",
    "            \n",
    "        function dragstarted(d) {\n",
    "             d3.event.sourceEvent.stopPropagation();\n",
    "             d3.select(this).classed(\"dragging\", true);\n",
    "        }\n",
    "        \n",
    "        function dragged(d) {\n",
    "             d3.select(this).attr(\"cx\", d3.event.x)\n",
    "                            .attr(\"cy\", d3.event.y);             \n",
    "        }\n",
    "\n",
    "        function dragended(d, i) {\n",
    "             d3.event.sourceEvent.stopPropagation();\n",
    "             d3.select(this).classed(\"dragging\", false);\n",
    "             var calib_cx = d3.select(this)[0][0].cx.animVal.value - xcal;\n",
    "             var calib_cy = d3.select(this)[0][0].cy.animVal.value - ycal;\n",
    "             var xcommand = x+\"[\"+i+\"] = \"+ax.x.invert(calib_cx);\n",
    "             var ycommand = y+\"[\"+i+\"] = \"+ax.y.invert(calib_cy);\n",
    "             IPython.notebook.kernel.execute(xcommand);\n",
    "             IPython.notebook.kernel.execute(ycommand);\n",
    "             console.log(xcommand);\n",
    "             console.log(ycommand);\n",
    "        }\n",
    "\n",
    "\n",
    "    };\"\"\"\n",
    "\n",
    "    def __init__(self, radius=4, color=\"white\", x ='x', y ='y'):\n",
    "        self.dict_ = {\"type\": \"annotate\",\n",
    "                      \"radius\": radius,\n",
    "                      \"color\": color,\n",
    "                      \"x\": x,\n",
    "                      \"y\": y};\n",
    "def pickpoints(fig='', radius=4, color=\"white\", x = 'x', y = 'y'):\n",
    "    mpld3.enable_notebook()\n",
    "    if not fig:\n",
    "        fig = plt.gcf()\n",
    "    plugins.connect(fig, Annotate(radius, color, x, y)) # color='htmlcolorname', radius=int\n",
    "    plugins.connect(fig, plugins.MousePosition())\n"
   ]
  },
  {
   "cell_type": "code",
   "execution_count": null,
   "metadata": {
    "scrolled": false
   },
   "outputs": [],
   "source": [
    "fig = plt.figure(figsize=(9,6))\n",
    "plt.imshow(im)\n",
    "pickpoints(fig, color='cyan', radius=2, x='x', y='y')"
   ]
  },
  {
   "cell_type": "markdown",
   "metadata": {},
   "source": [
    "**STOP**: Use your mouse to select points in the above pictures. If the ```pickpoints``` function is working you should see small dots appear everywhere you click on the picture.  Pick points in a 3x3 grid pattern starting at the upper left corner and finishing in the lower right corner."
   ]
  },
  {
   "cell_type": "code",
   "execution_count": null,
   "metadata": {},
   "outputs": [],
   "source": [
    "#When you are done picking points turn off interaction to make the other figures work properly\n",
    "mpld3.disable_notebook()"
   ]
  },
  {
   "cell_type": "code",
   "execution_count": null,
   "metadata": {},
   "outputs": [],
   "source": [
    "#record source points\n",
    "if x and y:\n",
    "    src = np.array([x,y]).T"
   ]
  },
  {
   "cell_type": "code",
   "execution_count": null,
   "metadata": {},
   "outputs": [],
   "source": [
    "# Construct Destination Image\n",
    "width = 1000\n",
    "dst = np.array([[0, width/2, width, 0, width/2, width, 0, width/2, width,], \n",
    "                [0, 0, 0, width/2, width/2, width/2, width, width, width]]).T\n",
    "\n",
    "from skimage import transform\n",
    "tform = transform.ProjectiveTransform()\n",
    "tform.estimate(dst, src)\n",
    "im2 = transform.warp(im, tform, output_shape=(1000,1000)) \n"
   ]
  },
  {
   "cell_type": "code",
   "execution_count": null,
   "metadata": {
    "scrolled": false
   },
   "outputs": [],
   "source": [
    "#show original image next to transformed image\n",
    "f, (ax1, ax2) = plt.subplots(1, 2, figsize=(20,10))\n",
    "ax1.imshow(im)\n",
    "ax1.scatter(src[:,0],src[:,1])\n",
    "#Add numbers\n",
    "for i in range(dst.shape[0]):\n",
    "    ax1.annotate(str(i+1), (src[i,0]+20,src[i,1]), color='white');\n",
    "ax1.set_title('Source Plain')\n",
    "\n",
    "ax2.imshow(im2);\n",
    "ax2.scatter(dst[:,0],dst[:,1])\n",
    "#Add numbers\n",
    "for i in range(dst.shape[0]):\n",
    "    ax2.annotate(str(i+1), (dst[i,0]+20,dst[i,1]));\n",
    "ax2.set_title('Destination Plain')\n",
    "ax2.axis('off');\n"
   ]
  },
  {
   "cell_type": "markdown",
   "metadata": {},
   "source": [
    "**&#9989;  DO THIS:** Think about ways you could automate the point selection process.  Discuss your ideas with your partner and be prepared to share with the group."
   ]
  },
  {
   "cell_type": "markdown",
   "metadata": {},
   "source": [
    "<font size=8 color=\"#009600\">&#9998;</font> Do This - Erase the contents of this cell and replace it with notes from your discussion."
   ]
  },
  {
   "cell_type": "markdown",
   "metadata": {},
   "source": [
    "**&#9989;  DO THIS:** Think about ways you could improve accuracy of this homography for this problem.  Discuss your ideas with your partner and be prepared to share with the group."
   ]
  },
  {
   "cell_type": "markdown",
   "metadata": {},
   "source": [
    "<font size=8 color=\"#009600\">&#9998;</font> Do This - Erase the contents of this cell and replace it with notes from your discussion."
   ]
  },
  {
   "cell_type": "markdown",
   "metadata": {},
   "source": [
    "----\n",
    "\n",
    "# 2. Useful Tools for Image and Video Manipulation:\n",
    "\n",
    "I would like to introduce all of you to two additional tools you may need for your research.  Both tools are Open Source and available for most computer platforms (Windows, Mac and Linux). They are typically run using your computers command line: \n",
    "\n",
    "\n",
    "**[ImageMagick](https://www.imagemagick.org/script/index.php):** This program is a library of image manipulation tools; the types of tools you would find in [Photoshop](https://www.adobe.com/products/photoshop.html) or [GIMP](https://www.gimp.org/).  Many of the more Artistic tools are not often used in scientific image analysis. However, some of them are quite useful. For example, the ```convert``` tool is very helpful in converting from one image type to another. For example, the following command converts ```myimage.jpg``` to ```myimage.png```:\n",
    "\n",
    "```bash\n",
    "convert myimage.jpg to myimage.png\n",
    "```\n",
    "\n",
    "A list of all image formats avaliable to ImageMagick (there are a lot of them) can be found here: https://www.imagemagick.org/script/formats.php\n",
    "\n",
    "\n",
    "**[ffmpeg](https://www.ffmpeg.org/):** This program is amazing helpful when you are working with video files (ex. avi and mp4).  Similar to the ```convert``` command in ImageMagick the ```ffmpeg``` command can be used to convert video files from one format to another.  Also like ImageMagick, ffmpeg can handle a lot of different video formats (also called codex).  One of the most useful formats is a folder of images.  This means that ffmpeg can convert a video into a folder of images and can take a folder of images and turn it into a video.  For example, the following command converst an mp4 file into a folder of images:\n",
    "\n",
    "```bash\n",
    "ffmpeg -i MyMovie.mp4 -qscale 0 -f image2 -r 1 ./Images/img-%06d.png\n",
    "```\n",
    "\n",
    "Or you can go the other way. The following command converts a folder of images to a movie:\n",
    "\n",
    "```bash\n",
    "ffmpeg -r 60 -f image2 -i ./Images/img-%06d.png -vcodec libx264 -crf 25  -pix_fmt yuv420p MyMovie.mp4\n",
    "```"
   ]
  },
  {
   "cell_type": "markdown",
   "metadata": {},
   "source": [
    "----\n",
    "\n",
    "# 3. Video Registration\n",
    "\n",
    "**&#9989; DO THIS:** Consider the following two screen shots from two different cameras taken from the same experiment.  Think about the challenges for doing data registrations with these two images. Discuss these challenges with your partners and be prepared to share your discussion with the class."
   ]
  },
  {
   "cell_type": "code",
   "execution_count": null,
   "metadata": {
    "scrolled": false
   },
   "outputs": [],
   "source": [
    "# Read data for this assignment\n",
    "%matplotlib inline \n",
    "import matplotlib.pyplot as plt\n",
    "from scipy.misc import imread, imsave\n",
    "from urllib.request import urlopen\n",
    "\n",
    "url1 = 'https://goo.gl/o7s8cz'\n",
    "with urlopen(url1) as file:\n",
    "    im1 = imread(file, mode='RGB')\n",
    "url2 = 'https://goo.gl/pGhndC'\n",
    "with urlopen(url2) as file:\n",
    "    im2 = imread(file, mode='RGB')\n",
    "    \n",
    "f, (ax1, ax2) = plt.subplots(1, 2,figsize=(20,10))\n",
    "ax1.imshow(im1)\n",
    "ax2.imshow(im2)"
   ]
  },
  {
   "cell_type": "markdown",
   "metadata": {},
   "source": [
    "<font size=8 color=\"#009600\">&#9998;</font> Do This - Erase the contents of this cell and replace it with notes from your discussion."
   ]
  },
  {
   "cell_type": "markdown",
   "metadata": {},
   "source": [
    "----\n",
    "\n",
    "# 4. Mid-Term Evaluation\n",
    "\n",
    "Direct Link: https://goo.gl/tEHYcB"
   ]
  },
  {
   "cell_type": "code",
   "execution_count": null,
   "metadata": {},
   "outputs": [],
   "source": [
    "from IPython.display import HTML\n",
    "HTML(\n",
    "\"\"\"\n",
    "<iframe \n",
    "\tsrc=\"https://goo.gl/tEHYcB?embedded=true\" \n",
    "\twidth=\"100%\" \n",
    "\theight=\"1200px\" \n",
    "\tframeborder=\"0\" \n",
    "\tmarginheight=\"0\" \n",
    "\tmarginwidth=\"0\">\n",
    "\tLoading...\n",
    "</iframe>\n",
    "\"\"\"\n",
    ")"
   ]
  },
  {
   "cell_type": "markdown",
   "metadata": {
    "collapsed": true
   },
   "source": [
    "---------\n",
    "### Congratulations, you're done with your in-class assignment!"
   ]
  },
  {
   "cell_type": "markdown",
   "metadata": {
    "collapsed": true
   },
   "source": [
    "&#169; Copyright 2018,  Michigan State University Board of Trustees"
   ]
  }
 ],
 "metadata": {
  "kernelspec": {
   "display_name": "Python 3",
   "language": "python",
   "name": "python3"
  },
  "language_info": {
   "codemirror_mode": {
    "name": "ipython",
    "version": 3
   },
   "file_extension": ".py",
   "mimetype": "text/x-python",
   "name": "python",
   "nbconvert_exporter": "python",
   "pygments_lexer": "ipython3",
   "version": "3.7.3"
  }
 },
 "nbformat": 4,
 "nbformat_minor": 1
}
