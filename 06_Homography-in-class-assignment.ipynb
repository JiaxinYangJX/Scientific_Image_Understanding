{
 "cells": [
  {
   "cell_type": "markdown",
   "metadata": {},
   "source": [
    "<a href=\"https://colab.research.google.com/github/colbrydi/Scientific_Image_Understanding/blob/master/06_Homography-in-class-assignment.ipynb\" target=\"_parent\"><img src=\"https://colab.research.google.com/assets/colab-badge.svg\" alt=\"Open In Colab\"/></a>\n"
   ]
  },
  {
   "cell_type": "markdown",
   "metadata": {},
   "source": [
    "# In-Class Assignment: Homography\n",
    "\n",
    "<img src=\"https://lh4.googleusercontent.com/y94B_GtPD3FiOVo9L9LblKxTHp5zgsSlCTddxq-27iSPFnPs5mtG4ZqBRBsVCfK9-dxEWc0sIw=w740\" width=\"100%\">\n",
    "\n"
   ]
  },
  {
   "cell_type": "markdown",
   "metadata": {},
   "source": [
    "### Agenda for today's class:\n",
    "\n",
    "1. [ Homography Example](#-Homography-Example)\n",
    "2. [Useful Tools for Image and Video Manipulation:](#Useful-Tools-for-Image-and-Video-Manipulation:)\n",
    "3. [Video Registration](#Video-Registration)\n",
    "\n"
   ]
  },
  {
   "cell_type": "markdown",
   "metadata": {},
   "source": [
    "\n",
    "\n",
    "---\n",
    "<a name=-Homography-Example></a>\n",
    "# 1.  Homography Example\n",
    "\n",
    "\n",
    "\n",
    "The following code downloads three images. We would like to pick points and evaluate the homography transform similar to the pre-class assignment.  \n",
    "\n",
    "This example uses some experimental code designed to enable the selecting of points inside an image.  To get this code to work you will need to install the ```mpld3``` library and add the installation path to the notebook. \n",
    "\n",
    "**&#9989; DO THIS:** Remove the comment (#) from the following line of code and run the cell to install mpld3.  You only need to do this once so make sure you put the comment back in:\n"
   ]
  },
  {
   "cell_type": "code",
   "execution_count": null,
   "metadata": {},
   "outputs": [],
   "source": [
    "## Import all necessary packages\n",
    "%matplotlib inline\n",
    "import scipy.sparse as sparse #this helps to speed up the algorithms, but you will not use it. \n",
    "import numpy as np\n",
    "import matplotlib.pyplot as plt\n",
    "import sympy as sym\n",
    "sym.init_printing(use_unicode=True)\n"
   ]
  },
  {
   "cell_type": "code",
   "execution_count": null,
   "metadata": {},
   "outputs": [],
   "source": [
    "#The following code snip-it downloads the files from internet and saves tnhem to your local directory.\n",
    "from urllib.request import urlopen, urlretrieve\n",
    "import imageio\n",
    "\n",
    "#Load a list of images\n",
    "ImageList = [('checkers', 'https://goo.gl/j2SFnL'),\n",
    "             ('sparty','https://cdn.shopify.com/s/files/1/1058/4992/products/MSU-Gruffy-Sparty-Sticker-550_620x.jpg?v=1525615105'),\n",
    "             ('billboard', 'https://lh4.googleusercontent.com/OA8Et4hB-vpuYTKt86gk9i_Or1ptNbxtuYnR-7vujPVuVx6m30wXoVE3_d5fG_xDYAxUmDxOUw=w600'),\n",
    "             ('banner', 'https://lh4.googleusercontent.com/aORranhBKm_pVs-Mg_pkyY1e8ujLh_7Y671d2BjNrWPiagBqktcJvD34ZHgUQrgbFAj4xOcf0Q=w740')\n",
    "            ]\n",
    "\n",
    "for name, url in ImageList:\n",
    "    file = name+'.png'\n",
    "    urlretrieve(url, file);\n",
    "    exec(name + \" = imageio.imread(file)\")"
   ]
  },
  {
   "cell_type": "code",
   "execution_count": null,
   "metadata": {},
   "outputs": [],
   "source": [
    "#show all of the images used in this assignment\n",
    "f, (ax1, ax2,ax3,ax4) = plt.subplots(1, 4,figsize=(20,10))\n",
    "ax1.imshow(checkers);\n",
    "ax1.set_title('checkers')\n",
    "ax1.axis('off');\n",
    "ax2.imshow(sparty);\n",
    "ax2.set_title('sparty')\n",
    "ax2.axis('off');\n",
    "ax3.imshow(billboard);\n",
    "ax3.set_title('billboard')\n",
    "ax3.axis('off');\n",
    "ax4.imshow(banner);\n",
    "ax4.set_title('banner')\n",
    "ax4.axis('off');\n"
   ]
  },
  {
   "cell_type": "markdown",
   "metadata": {},
   "source": [
    "# Part 1: Homography Example"
   ]
  },
  {
   "cell_type": "markdown",
   "metadata": {},
   "source": [
    "Making a homography projection can be split into three steps:\n",
    "\n",
    "- Step 1: Define common points in two images\n",
    "- Step 2: Computing the Homography Transform ($H$)\n",
    "- Step 3: Warping the image from one coordinate system to the other\n",
    "\n",
    "\n",
    "### Step 1: Define common points in two images\n",
    "\n",
    "Consider the following example with the \"checkers\" image.  This code will transform just the checker board from the floor into a square image.  \n",
    "\n",
    "Key to making this work is to have a set of commonly defined points on each image.  For simplicity we used all of the corner points of the checker board and the \"midpoints\" on the edge of the board between the corner points and the center of the board.  All points are recording in \"image coordinates\" with the x=column and y = row. I was unable to find an easy-to-use python program to let you pick the points so the points are provided for you.  The trick is to find a transform that converts points in the image on the left hand coordinate system to points in the image on the right hand side coordinate system. "
   ]
  },
  {
   "cell_type": "code",
   "execution_count": null,
   "metadata": {},
   "outputs": [],
   "source": [
    "#Points in source image coordinate system\n",
    "checker_pts = np.array([[156, 197],[284, 181],[407, 177],[172, 296],[318, 275],[452, 264],[190, 418],[359, 387],[507, 371]])\n",
    "\n",
    "width=550\n",
    "height=550\n",
    "\n",
    "#Points in desitnation coordinate system\n",
    "square_points = np.array([[0, width/2, width, 0, width/2, width, 0, width/2, width,], \n",
    "                          [0, 0, 0, height/2, height/2, height/2, height, height, height]]).T\n",
    "\n",
    "\n",
    "#show original points next to transformed points\n",
    "f, (ax1, ax2) = plt.subplots(1, 2,figsize=(20,10))\n",
    "ax1.imshow(checkers)\n",
    "ax1.scatter(checker_pts[:,0],checker_pts[:,1])\n",
    "#Add numbers\n",
    "for i in range(checker_pts.shape[0]):\n",
    "    ax1.annotate(str(i+1), (checker_pts[i,0]+20,checker_pts[i,1]), color='white');\n",
    "ax1.set_title('Source Plane')\n",
    "\n",
    "ax2.scatter(square_points[:,0],square_points[:,1])\n",
    "#Add numbers\n",
    "for i in range(square_points.shape[0]):\n",
    "    ax2.annotate(str(i+1), (square_points[i,0]+20,square_points[i,1]));\n",
    "ax2.set_title('Destination Plane')\n",
    "ax2.axis('equal');"
   ]
  },
  {
   "cell_type": "markdown",
   "metadata": {},
   "source": [
    "### Step 2: Computing the Homography Transform ($H$)\n",
    "The ```skimage``` library has a built in formula to calculate the transform  (```tform```) from the left image to the right image. This transform can be calculate using the coordinates for the points in the source image and the coordinates for the points in the destination image as follows:"
   ]
  },
  {
   "cell_type": "code",
   "execution_count": null,
   "metadata": {},
   "outputs": [],
   "source": [
    "#Calculate Homography Transformation\n",
    "from skimage import transform\n",
    "\n",
    "#Magic function to calculate projective transform from the source to the destination\n",
    "tform = transform.ProjectiveTransform()\n",
    "tform.estimate(square_points, checker_pts)"
   ]
  },
  {
   "cell_type": "markdown",
   "metadata": {},
   "source": [
    "At it's core, the ```tform``` variable is just a $3 \\times 3$ transforms matrix with the values of the matrix stored in the params variable.  The following code converts the matrix into a ```numpy``` array which is then viewed as a ```sympy``` matrix:"
   ]
  },
  {
   "cell_type": "code",
   "execution_count": null,
   "metadata": {},
   "outputs": [],
   "source": [
    "H = tform.params\n",
    "sym.Matrix(H)"
   ]
  },
  {
   "cell_type": "markdown",
   "metadata": {},
   "source": [
    "**Visualization Trick**: I sometimes find it hard to read large floating point numbers.  To make them more readable I like to round them off. The following code rounds to the nearest 1/100 place."
   ]
  },
  {
   "cell_type": "code",
   "execution_count": null,
   "metadata": {},
   "outputs": [],
   "source": [
    "sym.Matrix(np.round(H*100)/100)"
   ]
  },
  {
   "cell_type": "markdown",
   "metadata": {},
   "source": [
    "### Step 3: Warping the image from one coordinate system to the other\n",
    "\n",
    "Now we use the ```transform.warp``` function to create a new image in the left hand coordinate system using the right hand image pixel values and display the two image side-by-side:"
   ]
  },
  {
   "cell_type": "code",
   "execution_count": null,
   "metadata": {},
   "outputs": [],
   "source": [
    "#warp takes transform and makes a new image\n",
    "square_image = transform.warp(checkers, tform, output_shape=(width,height)) "
   ]
  },
  {
   "cell_type": "code",
   "execution_count": null,
   "metadata": {},
   "outputs": [],
   "source": [
    "#show original image next to transformed image\n",
    "\n",
    "f, (ax1, ax2) = plt.subplots(1, 2,figsize=(20,10))\n",
    "\n",
    "ax1.imshow(checkers)\n",
    "ax1.scatter(checker_pts[:,0],checker_pts[:,1])\n",
    "#Add numbers\n",
    "for i in range(checker_pts.shape[0]):\n",
    "    ax1.annotate(str(i+1), (checker_pts[i,0]+20,checker_pts[i,1]), color='white');\n",
    "ax1.set_title('Source Coordinates')\n",
    "\n",
    "ax2.imshow(square_image)\n",
    "ax2.scatter(square_points[:,0],square_points[:,1])\n",
    "#Add numbers\n",
    "for i in range(square_points.shape[0]):\n",
    "    ax2.annotate(str(i+1), (square_points[i,0]+20,square_points[i,1]));\n",
    "ax2.set_title('Destination Coordinates')\n",
    "ax2.axis('equal');"
   ]
  },
  {
   "cell_type": "markdown",
   "metadata": {},
   "source": [
    "## Inverse Homography\n",
    "\n",
    "Lets do the same thing again but this time we will use the Sparty Image and move it on top of the checkerboard image."
   ]
  },
  {
   "cell_type": "code",
   "execution_count": null,
   "metadata": {},
   "outputs": [],
   "source": [
    "height = sparty.shape[0]\n",
    "width = sparty.shape[1]\n",
    "\n",
    "sparty_pts = np.array([[0, height/2, height, 0, height/2, height, 0, height/2, height,], \n",
    "                       [0, 0, 0, width/2, width/2, width/2, width, width, width]]).T\n",
    "\n",
    "\n",
    "#show original points next to transformed points\n",
    "f, (ax1, ax2) = plt.subplots(1, 2,figsize=(20,10))\n",
    "ax1.imshow(sparty)\n",
    "ax1.scatter(sparty_pts[:,0],sparty_pts[:,1])\n",
    "#Add numbers\n",
    "for i in range(sparty_pts.shape[0]):\n",
    "    ax1.annotate(str(i+1), (sparty_pts[i,0]+20,sparty_pts[i,1]), color='blue');\n",
    "ax1.set_title('Source Coordinates')\n",
    "\n",
    "ax2.imshow(checkers)\n",
    "ax2.scatter(checker_pts[:,0],checker_pts[:,1])\n",
    "#Add numbers\n",
    "for i in range(checker_pts.shape[0]):\n",
    "    ax2.annotate(str(i+1), (checker_pts[i,0]+20,checker_pts[i,1]),color='white');\n",
    "ax2.set_title('Destination Coordinates');\n",
    "\n"
   ]
  },
  {
   "cell_type": "markdown",
   "metadata": {},
   "source": [
    "Although we could use the ```estimate``` function again.  Lets see what happens if we just calculate the Transformation matrix using the inverse of the $H$ matrix calculated earlier. \n",
    "\n",
    "&#9989; **<font color=red>DO THIS:</font>** Calculate the inverse of the ```H``` and call this new matrix ```H_inv```:"
   ]
  },
  {
   "cell_type": "code",
   "execution_count": null,
   "metadata": {},
   "outputs": [],
   "source": [
    "H_inv = np.linalg.inv(H)"
   ]
  },
  {
   "cell_type": "markdown",
   "metadata": {},
   "source": [
    "Now we can plug ```H_inv``` into our ```tform``` variable and warp the ```sparty``` image into the ```checkers``` image using the following code:\n",
    "    "
   ]
  },
  {
   "cell_type": "code",
   "execution_count": null,
   "metadata": {},
   "outputs": [],
   "source": [
    "tform.params = H_inv\n",
    "\n",
    "#warp takes transform and makes a new image\n",
    "warped = transform.warp(sparty, tform, output_shape=checkers.shape)\n",
    "\n",
    "plt.imshow(warped)"
   ]
  },
  {
   "cell_type": "markdown",
   "metadata": {},
   "source": [
    "To see our final product lets \"add\" the warped with the original checkers image.  This is a little tricky so use the following function:"
   ]
  },
  {
   "cell_type": "code",
   "execution_count": null,
   "metadata": {},
   "outputs": [],
   "source": [
    "def addImages(original, warped):\n",
    "    \n",
    "    if original.shape != warped.shape:\n",
    "        raise Exception('Size Missmatch Error - Input images should be the same size')\n",
    "    \n",
    "    if (len(original.shape) != 3):\n",
    "        raise Exception('Image Type error - Images should be in RGB format')\n",
    "            \n",
    "    red_src = np.array(original[:,:,0])\n",
    "    green_src = np.array(original[:,:,1])\n",
    "    blue_src = np.array(original[:,:,2])\n",
    "\n",
    "    if (np.max(warped) == 1):\n",
    "        scale = 255.0\n",
    "        \n",
    "    red_dst = warped[:,:,0]*scale\n",
    "    green_dst = warped[:,:,1]*scale\n",
    "    blue_dst = warped[:,:,2]*scale\n",
    "\n",
    "    image_mask = (np.sum(warped, axis=2) == 0)\n",
    "    \n",
    "    red_new = red_src*image_mask\n",
    "    green_new = green_src*image_mask\n",
    "    blue_new = blue_src*image_mask\n",
    "    \n",
    "    im_new = np.zeros(original.shape)\n",
    "    im_new[:,:,0] = (red_new + red_dst)/255\n",
    "    im_new[:,:,1] = (green_new + green_dst)/255\n",
    "    im_new[:,:,2] = (blue_new + blue_dst)/255\n",
    "    \n",
    "    return im_new"
   ]
  },
  {
   "cell_type": "code",
   "execution_count": null,
   "metadata": {},
   "outputs": [],
   "source": [
    "plt.figure(figsize=(20,10))\n",
    "plt.imshow(addImages(checkers, warped));"
   ]
  },
  {
   "cell_type": "markdown",
   "metadata": {},
   "source": [
    "&#9989; **<font color=red>QUESTION:</font>**  Why doesn't the ```sparty``` image cover the entire checkerboard?  "
   ]
  },
  {
   "cell_type": "markdown",
   "metadata": {},
   "source": [
    "Put your answer here"
   ]
  },
  {
   "cell_type": "markdown",
   "metadata": {},
   "source": [
    "&#9989; **<font color=red>DO THIS:</font>**  Modify the above example code to fix it and make the sparty image cover the entire checkerboard."
   ]
  },
  {
   "cell_type": "markdown",
   "metadata": {},
   "source": [
    "## Projecting onto a billboard\n",
    "\n",
    "Now lets review what you have learned in Examples 2 and 3. Consider the following banner/billboard example:"
   ]
  },
  {
   "cell_type": "code",
   "execution_count": null,
   "metadata": {},
   "outputs": [],
   "source": [
    "\n",
    "billboard_pts = np.array([[ 77, 255, 470,  76, 256, 469,  75, 258, 472], \n",
    "                          [ 86,  68,  42, 150, 135, 117, 225, 212, 198]]).T\n",
    "\n",
    "\n",
    "height = banner.shape[0]\n",
    "width = banner.shape[1]\n",
    "\n",
    "banner_pts = np.array([[0, width/2, width, 0, width/2, width, 0, width/2, width,], \n",
    "                       [0, 0, 0, height/2, height/2, height/2, height, height, height]]).T\n",
    "\n",
    "f, (ax1, ax2) = plt.subplots(1, 2,figsize=(20,10))\n",
    "\n",
    "ax1.imshow(banner)\n",
    "ax1.scatter(banner_pts[:,0],banner_pts[:,1],color='red')\n",
    "#Add numbers\n",
    "for i in range(banner_pts.shape[0]):\n",
    "    ax1.annotate(str(i+1), (banner_pts[i,0]+20,banner_pts[i,1]), color='red');\n",
    "ax1.set_title('Source Coordinates')\n",
    "ax1.axis('equal');\n",
    "\n",
    "ax2.imshow(billboard)\n",
    "ax2.scatter(billboard_pts[:,0],billboard_pts[:,1],color='red')\n",
    "#Add numbers\n",
    "for i in range(billboard_pts.shape[0]):\n",
    "    ax2.annotate(str(i+1), (billboard_pts[i,0]+20,billboard_pts[i,1]), color='red');\n",
    "ax2.set_title('Destination Coordinates');\n",
    "\n"
   ]
  },
  {
   "cell_type": "markdown",
   "metadata": {},
   "source": [
    "&#9989; **<font color=red>DO THIS:</font>**  Write a program to warp the MSU banner onto the billboard.  "
   ]
  },
  {
   "cell_type": "code",
   "execution_count": null,
   "metadata": {},
   "outputs": [],
   "source": [
    "# put your code here"
   ]
  },
  {
   "cell_type": "markdown",
   "metadata": {},
   "source": [
    "---\n",
    "\n",
    "Written by Dr. Dirk Colbry, Michigan State University\n",
    "<a rel=\"license\" href=\"http://creativecommons.org/licenses/by-nc/4.0/\"><img alt=\"Creative Commons License\" style=\"border-width:0\" src=\"https://i.creativecommons.org/l/by-nc/4.0/88x31.png\" /></a><br />This work is licensed under a <a rel=\"license\" href=\"http://creativecommons.org/licenses/by-nc/4.0/\">Creative Commons Attribution-NonCommercial 4.0 International License</a>."
   ]
  },
  {
   "cell_type": "markdown",
   "metadata": {},
   "source": [
    "---"
   ]
  }
 ],
 "metadata": {
  "kernelspec": {
   "display_name": "Python 3",
   "language": "python",
   "name": "python3"
  },
  "language_info": {
   "codemirror_mode": {
    "name": "ipython",
    "version": 3
   },
   "file_extension": ".py",
   "mimetype": "text/x-python",
   "name": "python",
   "nbconvert_exporter": "python",
   "pygments_lexer": "ipython3",
   "version": "3.7.3"
  }
 },
 "nbformat": 4,
 "nbformat_minor": 1
}
