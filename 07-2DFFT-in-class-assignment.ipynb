{
 "cells": [
  {
   "cell_type": "markdown",
   "metadata": {},
   "source": [
    "# In-Class Assignment: 2DFFT in image analysis\n",
    "<img src=\"https://lh3.googleusercontent.com/BeDhQcIlYtyGLwB_XtfXd2PyWrdDvv2--zLdfd5gzyO7mHSyAj1JoAo4SB8urtnq5p2nSEbDWA=w630\" width=\"40%\">"
   ]
  },
  {
   "cell_type": "markdown",
   "metadata": {},
   "source": [
    "### Agenda for today's class (110 minutes)\n",
    "\n",
    "1. [Two dimensional FFT](#Two-dimensional-FFT)\n",
    "2. [Frequency Filtering using 2D FFTs](#Frequency-Filtering-using-2D-FFTs)\n",
    "3. [FFT Feature Extraction](#FFT-Feature-Extraction)\n"
   ]
  },
  {
   "cell_type": "markdown",
   "metadata": {},
   "source": [
    "\n",
    "---\n",
    "<a name=Two-dimensional-FFT></a>\n",
    "# 1. Two dimensional FFT\n",
    "\n",
    "\n",
    "In the previous class we converted a 1D time signal into it's frequency space.  In this lesson we will look at what it means to look at 2D data in the 2D frequency space. "
   ]
  },
  {
   "cell_type": "code",
   "execution_count": null,
   "metadata": {},
   "outputs": [],
   "source": [
    "from IPython.display import YouTubeVideo\n",
    "YouTubeVideo(\"js4bLBYtJwY\",width=640,height=360)"
   ]
  },
  {
   "cell_type": "markdown",
   "metadata": {},
   "source": [
    "&#9989; **<font color=red>Question 1:</font>** In the video, please describe in your own works what is \"k-space.\""
   ]
  },
  {
   "cell_type": "markdown",
   "metadata": {},
   "source": [
    "Put your answer to the above question here."
   ]
  },
  {
   "cell_type": "markdown",
   "metadata": {},
   "source": [
    "Now, let's write some code to practice 2D FFT as in the vidoe."
   ]
  },
  {
   "cell_type": "markdown",
   "metadata": {},
   "source": [
    "&#9989; **<font color=red>A:</font>** Go to the link below. Investigate how to read image to an array using Python. The image file in this assignment is \"brick_texture3420.jpg\". Find the size (shape) of the array. Imshow the image. You can google imread( ) and imshow( ) functions. **\n",
    "\n",
    "https://docs.scipy.org/doc/scipy-0.19.1/reference/generated/scipy.misc.imread.html"
   ]
  },
  {
   "cell_type": "code",
   "execution_count": null,
   "metadata": {},
   "outputs": [],
   "source": [
    "# Your code:\n",
    "\n",
    "from imageio import imread\n",
    "import numpy as np\n",
    "import matplotlib.pyplot as plt\n",
    "from urllib.request import urlopen, urlretrieve\n",
    "url= 'https://gitlab.msu.edu/CMSE/CMSE202-S17-Assignments/-/raw/4c6e780ea4a3fdf3123c72a27da9d1315b20dcf0/images/fft/brick_texture3420.jpg'\n",
    "file = 'brick_texture3420.jpg'\n",
    "\n",
    "urlretrieve(url, file);\n",
    "img = imread(filename)\n",
    "print( np.shape(img) )\n",
    "plt.imshow(img)\n",
    "plt.show()"
   ]
  },
  {
   "cell_type": "markdown",
   "metadata": {},
   "source": [
    "---\n",
    "&#9989; **<font color=red>B:</font>**  An image is an array of pixels. For a color image, the array usually contains three layers of 2D pixel array. For example, Img[ 0:vert, 0:horiz, 0] is the intensity of red color of this image. The indices, vert and horiz, are the numbers of pixels along the vertical and horizontal directions of the image. Similarly, Img[ 0:vert, 0:horiz, 1] is the intensity of Green color. Img[ 0:vert, 0:horiz, 2] is the intensity of Blue color. The three values at each pixel are the intensity for Red, Green, and Blue colors for the color image.  \n",
    "\n",
    "Now, let's convert the RGB intensity to gray scale (luminace). We can assume grey_scale = 0.2125$\\times$R + 0.7154$\\times$G + 0.0721$\\times$B. Calculate the gray_scale intensity of the image. Imshow the gray_scale image with cmap = 'gray'. ** "
   ]
  },
  {
   "cell_type": "code",
   "execution_count": null,
   "metadata": {},
   "outputs": [],
   "source": [
    "# Your code:\n",
    "\n",
    "Gs_Img = (img[:,:,0]*0.2125 + img[:,:,1]*0.7154 + img[:,:,2]*0.0721)/255\n",
    "\n",
    "plt.imshow(Gs_Img, cmap='gray')\n",
    "plt.show()"
   ]
  },
  {
   "cell_type": "markdown",
   "metadata": {},
   "source": [
    "---\n",
    "&#9989; **<font color=red>C:</font>** Take a 2D Fast Fourier Transform of the gray-scale image.  \n",
    "\n",
    "https://docs.scipy.org/doc/numpy-1.13.0/reference/generated/numpy.fft.fft2.html\n",
    "\n",
    "**Calculate the amplitude of the fft 2D array. You can use np.abs( ) calucalte the amplitude, which calculates the absolute values (amplitudes) of complex numbers. Plot the amplitude. To highlight the vairation in the amplitude, plot log10 of the amplitude.  ** "
   ]
  },
  {
   "cell_type": "code",
   "execution_count": null,
   "metadata": {},
   "outputs": [],
   "source": [
    "# Your code:\n",
    "\n",
    "Fs = np.fft.fft2(Gs_Img)\n",
    "\n",
    "Amp = np.abs(Fs)\n",
    "\n",
    "lgA = np.log10(Amp)\n",
    "\n",
    "plt.subplot(2,1,1)\n",
    "plt.imshow(Amp)\n",
    "\n",
    "plt.subplot(2,1,2)\n",
    "plt.imshow(lgA)\n",
    "\n",
    "\n",
    "plt.show()"
   ]
  },
  {
   "cell_type": "markdown",
   "metadata": {},
   "source": [
    "---\n",
    "&#9989; **<font color=red>D:</font>**  Your plot of log10 of amplitude should look different from the one in the video. You may notice that the amplitdue in the center of the plot is low, while some spots appearing near the edges of the 2D domain. This is because the fft2 function calculates the Fourtier transformation in the period from 0 to 2 $\\pi$. For plots in the k space, we need to use transformation calculated in the period from $-\\pi$ to $\\pi$. Such that, the origin in the k space is at the center of the plot.\n",
    "\n",
    "To do this, we need to move around the result from fft2( ) as the following. Move the upper left quarter to the lower right. The lower right to upper left. See regions A and D swapped.  Do the swap between C and D as illustrated below."
   ]
  },
  {
   "cell_type": "code",
   "execution_count": null,
   "metadata": {},
   "outputs": [],
   "source": [
    "# Your code:\n",
    "\n",
    "Sz_F = np.shape(lgA)\n",
    "print(Sz_F[0],Sz_F[1])\n",
    "\n",
    "\n",
    "nA = np.ndarray(shape = Sz_F)\n",
    "nA[:int(Sz_F[0]/2),:int(Sz_F[1]/2)] = lgA[int(Sz_F[0]/2):,int(Sz_F[1]/2):]\n",
    "nA[int(Sz_F[0]/2):,:int(Sz_F[1]/2)] = lgA[:int(Sz_F[0]/2),int(Sz_F[1]/2):]\n",
    "nA[:int(Sz_F[0]/2),int(Sz_F[1]/2):] = lgA[int(Sz_F[0]/2):,:int(Sz_F[1]/2)]\n",
    "nA[int(Sz_F[0]/2):,int(Sz_F[1]/2):] = lgA[:int(Sz_F[0]/2),:int(Sz_F[1]/2)]\n",
    "\n",
    "\n",
    "plt.imshow(nA)\n",
    "plt.show()"
   ]
  },
  {
   "cell_type": "markdown",
   "metadata": {},
   "source": [
    "---\n",
    "&#9989; **<font color=red>E:</font>** Here, let's compare our result to that from Python built-in function of fftshift. Use the function np.fft.fftshift( ) to the shift. Plot the result and compare it to the one obtained in the cell above. \n"
   ]
  },
  {
   "cell_type": "code",
   "execution_count": null,
   "metadata": {},
   "outputs": [],
   "source": [
    "nB = np.fft.fftshift(lgA)\n",
    "\n",
    "plt.imshow(nB)\n",
    "plt.show()"
   ]
  },
  {
   "cell_type": "markdown",
   "metadata": {
    "collapsed": true
   },
   "source": [
    "---\n",
    "&#9989; **<font color=red>Question: </font>** Note the regular pattern in the frequency space.  Where does the regular spots come from? "
   ]
  },
  {
   "cell_type": "markdown",
   "metadata": {},
   "source": [
    "Put your answer to the above question here."
   ]
  },
  {
   "cell_type": "markdown",
   "metadata": {},
   "source": [
    "----\n",
    "\n",
    "<a name=Frequency-Filtering-using-2D-FFTs></a>\n",
    "# 2. Frequency Filtering using 2D FFTs\n",
    "\n",
    "\n",
    "The Frequency Space is often used to filter out periodic noise.  In this exercise you will build masks in the Frequency space to best remove the noise. \n",
    "\n",
    "**&#9989; DO THIS:** Run the following code and find the best mask to filter out the periodic noise in the pompeii image and the Moon landing image. "
   ]
  },
  {
   "cell_type": "code",
   "execution_count": null,
   "metadata": {},
   "outputs": [],
   "source": [
    "#The following code snip-it downloads a file from internet and saves it to your local directory.\n",
    "from urllib.request import urlopen, urlretrieve\n",
    "\n",
    "url = 'https://goo.gl/1B2YTi'\n",
    "file1 = 'moonlanding.png'\n",
    "urlretrieve(url, file1);"
   ]
  },
  {
   "cell_type": "code",
   "execution_count": null,
   "metadata": {},
   "outputs": [],
   "source": [
    "#The following code snip-it downloads a file from internet and saves it to your local directory.\n",
    "from urllib.request import urlopen, urlretrieve\n",
    "\n",
    "url = 'https://goo.gl/NpqeF6'\n",
    "file2 = 'pompeii_periodic_noise.png'\n",
    "urlretrieve(url, file2);"
   ]
  },
  {
   "cell_type": "code",
   "execution_count": null,
   "metadata": {},
   "outputs": [],
   "source": [
    "file = file2"
   ]
  },
  {
   "cell_type": "code",
   "execution_count": null,
   "metadata": {},
   "outputs": [],
   "source": [
    "%matplotlib inline\n",
    "import matplotlib.pylab as plt\n",
    "import numpy as np\n",
    "from imageio import imread\n",
    "\n",
    "\n",
    "im = imread(file)\n",
    "plt.figure(figsize=(20,15))\n",
    "plt.imshow(im, cmap='gray')"
   ]
  },
  {
   "cell_type": "code",
   "execution_count": null,
   "metadata": {},
   "outputs": [],
   "source": [
    "#Convert color image to grayscale\n",
    "import skimage.color as color\n",
    "gray = color.rgb2gray(im)"
   ]
  },
  {
   "cell_type": "code",
   "execution_count": null,
   "metadata": {},
   "outputs": [],
   "source": [
    "#Updated 2D FFT explorer with circular mask\n",
    "import warnings\n",
    "warnings.simplefilter(action='ignore', category=FutureWarning)\n",
    "\n",
    "from ipywidgets import interactive, fixed\n",
    "from skimage.draw import circle_perimeter, circle\n",
    "\n",
    "def filter_fft(gray, sz=0.1, flipMask=True):\n",
    "    f, (ax0, ax1, ax2) = plt.subplots(1, 3, figsize=(20,5))\n",
    "\n",
    "    ax0.imshow(gray,cmap='gray')\n",
    "    ax0.axis('equal')\n",
    "    ax0.axis('off')\n",
    "\n",
    "    rows = im.shape[0]\n",
    "    cols = im.shape[1]\n",
    "\n",
    "    #Generate a simple square mask\n",
    "    if flipMask:\n",
    "        mask = np.zeros([rows,cols])\n",
    "        val = 1\n",
    "    else:\n",
    "        mask = np.ones([rows,cols])\n",
    "        val = 0\n",
    "\n",
    "    cenx = int(cols/2)\n",
    "    ceny = int(rows/2)\n",
    "\n",
    "    maxr = np.sqrt(cenx**2+ceny**2)\n",
    "    \n",
    "    fully, fullx = circle(ceny, cenx, int(maxr*sz))\n",
    "    \n",
    "    fully = np.array(fully)\n",
    "    fullx = np.array(fullx)\n",
    "    \n",
    "    bottom = np.logical_and(fully >= 0,fullx >= 0)\n",
    "    top = np.logical_and(fully < rows,fullx < cols)\n",
    "    \n",
    "    fullx = fullx[np.logical_and(top, bottom)]\n",
    "    fully = fully[np.logical_and(top, bottom)]\n",
    "    \n",
    "    mask[fully, fullx] = val\n",
    "\n",
    "    #Calculate the Grayscale image\n",
    "    gray = color.rgb2gray(im);\n",
    "\n",
    "    # Take to 2D FFT\n",
    "    Fs = np.fft.fft2(gray)\n",
    "\n",
    "    # Shift the 2D FFT into the \"Standard\" view\n",
    "    F2 = np.fft.fftshift( Fs ) \n",
    "\n",
    "    #Apply the mask\n",
    "    F3 = F2*mask\n",
    "\n",
    "    # Generate easy-to-see plot\n",
    "    psd2D = np.rot90(np.abs( F3)**2)\n",
    "    psd2D[psd2D == 0] = np.nan\n",
    "    ax1.imshow( np.log10(psd2D), cmap='jet')\n",
    "    ax1.axis('equal')\n",
    "    ax1.axis('off')\n",
    "\n",
    "    # Shift the masked image back\n",
    "    F4 = np.fft.fftshift( F3 ) \n",
    "\n",
    "    # Apply the inverse fft and show the final result. \n",
    "    im2 = abs(np.fft.ifft2(F4))\n",
    "    ax2.imshow(im2, cmap='gray')\n",
    "    ax2.axis('equal')\n",
    "    ax2.axis('off')\n",
    "    plt.show()\n",
    "    return im2\n",
    "\n",
    "fft_widget = interactive(filter_fft, gray=fixed(gray), sz=(0,1,0.025), flipMask=(0,1));\n",
    "fft_widget"
   ]
  },
  {
   "cell_type": "markdown",
   "metadata": {},
   "source": [
    "Once you are happy with the above settings you can zooming on the result using the following code snip-it:"
   ]
  },
  {
   "cell_type": "code",
   "execution_count": null,
   "metadata": {},
   "outputs": [],
   "source": [
    "# Zoom in on the results of the fft_widget \n",
    "from IPython.display import clear_output\n",
    "\n",
    "#Pull variables out of python widget\n",
    "sz = fft_widget.children[0].value\n",
    "flipMask = fft_widget.children[1].value\n",
    "\n",
    "#Rerun the fft filter\n",
    "im2 = filter_fft(gray, sz, flipMask)\n",
    "clear_output()\n",
    "\n",
    "#Display the results\n",
    "plt.figure(figsize=(20,10))\n",
    "plt.imshow(im2,cmap='gray')\n"
   ]
  },
  {
   "cell_type": "markdown",
   "metadata": {},
   "source": [
    "#9989; **<font color=red>DO THIS: </font>** Lets do this exersize again but use a slightly more flexible tool.  Upload one of the images to ```ImageJ``` (```Fiji```) and see if you can do a better job filtering out the noise."
   ]
  },
  {
   "cell_type": "markdown",
   "metadata": {},
   "source": [
    "#9989; **<font color=red>DO THIS: </font>** Share your best results with the class. "
   ]
  },
  {
   "cell_type": "markdown",
   "metadata": {},
   "source": [
    "\n",
    "\n",
    "---\n",
    "<a name=FFT-Feature-Extraction></a>\n",
    "# 3. FFT Feature Extraction\n",
    "\n",
    "As we discussed in our papers on Friday and Monday, the FFT space can be used to generate features about an image or an image itself.  In this exercise we are going to discuss an example of using FFT space to classify Car Tire Treads:\n",
    "\n",
    "**Problem Statement:** In the US car tread patterns are copyrighted instead of being patented. This means that when tire manufacturers design a new tire they need to check the tread to ensure it does not look like a similar tread already in existence. We are going to extract features form the Fourier space that were used to build a classifier to find the closest tires to an image.\n",
    "\n",
    "\n",
    "<table>\n",
    "<tr height=200px>\n",
    "<td><img src=\"http://www.biologyjunction.com/images/BridgeCoupe.jpg\"> </td>\n",
    "<td><img src=\"http://www.biologyjunction.com/images/BridgeHatch.jpg\"></td>\n",
    "<td><img src=\"http://www.biologyjunction.com/images/BridgeLux.jpg\"></td>\n",
    "<td><img src=\"http://www.biologyjunction.com/images/BridgeSUV.jpg\"></td>\n",
    "<td><img src=\"http://www.biologyjunction.com/images/BridgeSedan.jpg\"></td>\n",
    "<td><img src=\"http://www.biologyjunction.com/images/BridgeTruck.jpg\"></td>\n",
    "</tr>\n",
    "</table>\n",
    "\n"
   ]
  },
  {
   "cell_type": "code",
   "execution_count": null,
   "metadata": {},
   "outputs": [],
   "source": [
    "#Download a Tire Database\n",
    "from urllib.request import urlopen, urlretrieve\n",
    "import requests\n",
    "url = 'http://www.biologyjunction.com/images/'\n",
    "names = ['BridgeCoupe.jpg', 'BridgeHatch.jpg', 'BridgeLux.jpg', 'BridgeSUV.jpg', 'BridgeSedan.jpg', 'BridgeTruck.jpg']\n",
    "\n",
    "for name in names:\n",
    "    fullurl = url+name;\n",
    "    print(fullurl)\n",
    "    r = requests.get(fullurl)\n",
    "    with open(name, 'wb') as outfile:\n",
    "        outfile.write(r.content)"
   ]
  },
  {
   "cell_type": "code",
   "execution_count": null,
   "metadata": {},
   "outputs": [],
   "source": [
    "#Polar Histogram of the FFT Space\n",
    "def phist(gray):\n",
    "    '''Polar fft Histogram - Calculate sub of power over all angles and radii. '''\n",
    "    f = plt.figure(figsize=(20,5))\n",
    "\n",
    "    #Plot original Image\n",
    "    ax0 = f.add_subplot(141)\n",
    "    ax0.imshow(gray,cmap='gray')\n",
    "    ax0.axis('equal')\n",
    "    ax0.axis('off')\n",
    "\n",
    "    # Take to 2D FFT\n",
    "    Fs = np.fft.fft2(gray)\n",
    "\n",
    "    # Shift the 2D FFT into the \"Standard\" view\n",
    "    F2 = np.fft.fftshift( Fs ) \n",
    "\n",
    "    # Generate easy-to-see plot\n",
    "    psd2D = np.rot90(np.abs(F2)**2)\n",
    "    psd2D[psd2D == 0] = np.nan\n",
    "    fft = np.log10(psd2D)\n",
    "    \n",
    "    ax1 = f.add_subplot(142)\n",
    "    ax1.imshow( fft, cmap='jet')\n",
    "    ax1.axis('equal')\n",
    "    ax1.axis('off')\n",
    "    \n",
    "    # Calculate angles\n",
    "    rows = gray.shape[0]; ceny = int(rows/2)\n",
    "    cols = gray.shape[1]; cenx = int(cols/2)\n",
    "    dx = np.arange(cols) - cenx\n",
    "    dy = np.arange(rows) - ceny\n",
    "    X,Y = np.meshgrid(dy, dx)\n",
    "    \n",
    "    angle = np.arange(-np.pi, np.pi, (2*np.pi)/360)\n",
    "    angles = np.floor(np.arctan2(Y,X)/(2*np.pi)*360)\n",
    "    \n",
    "    bins = np.zeros(360)\n",
    "\n",
    "    for i in range(len(bins)):\n",
    "        bins[i] = np.sum(fft[angles==(i-180)])/np.sum(angles==(i-180))\n",
    "    ax2 = f.add_subplot(143, projection='polar')\n",
    "    ax2.plot(angle, bins)\n",
    "    ax2.set_title('FFT Power Vs Angle')\n",
    "    #ax2.set_axis('polar')\n",
    "    \n",
    "        \n",
    "    radii = X*X+Y*Y\n",
    "    max_R = np.max(radii)\n",
    "    n_bins = 100\n",
    "    radii = np.floor(radii / max_R * n_bins)\n",
    "    \n",
    "    radius = np.zeros(n_bins)\n",
    "\n",
    "    for i in range(len(radius)):\n",
    "        radius[i] = np.sum(fft[radii==i])/np.sum(angles==i)\n",
    "    ax2 = f.add_subplot(144)\n",
    "    ax2.plot(radius)\n",
    "    ax2.set_xlabel('FFT Radius')\n",
    "    ax2.set_ylabel('Power')\n",
    "    \n",
    "    plt.show()\n",
    "    return bins/np.max(bins), radius/np.max(radius)\n"
   ]
  },
  {
   "cell_type": "code",
   "execution_count": null,
   "metadata": {},
   "outputs": [],
   "source": [
    "tires = []\n",
    "polar_bins = []\n",
    "radial_bins = []"
   ]
  },
  {
   "cell_type": "code",
   "execution_count": null,
   "metadata": {},
   "outputs": [],
   "source": [
    "im = imread(names[0])\n",
    "gray = color.rgb2gray(im)\n",
    "bins, radii = phist(gray)\n",
    "\n",
    "tires.append(im)\n",
    "polar_bins.append(bins)\n",
    "radial_bins.append(radii)"
   ]
  },
  {
   "cell_type": "code",
   "execution_count": null,
   "metadata": {},
   "outputs": [],
   "source": [
    "im = imread(names[1])\n",
    "gray = color.rgb2gray(im)\n",
    "bins, radii = phist(gray)\n",
    "\n",
    "tires.append(im)\n",
    "polar_bins.append(bins)\n",
    "radial_bins.append(radii)"
   ]
  },
  {
   "cell_type": "code",
   "execution_count": null,
   "metadata": {},
   "outputs": [],
   "source": [
    "im = imread(names[2])\n",
    "gray = color.rgb2gray(im)\n",
    "bins, radii = phist(gray)\n",
    "\n",
    "tires.append(im)\n",
    "polar_bins.append(bins)\n",
    "radial_bins.append(radii)"
   ]
  },
  {
   "cell_type": "code",
   "execution_count": null,
   "metadata": {},
   "outputs": [],
   "source": [
    "im = imread(names[3])\n",
    "gray = color.rgb2gray(im)\n",
    "bins, radii = phist(gray)\n",
    "\n",
    "tires.append(im)\n",
    "polar_bins.append(bins)\n",
    "radial_bins.append(radii)"
   ]
  },
  {
   "cell_type": "code",
   "execution_count": null,
   "metadata": {},
   "outputs": [],
   "source": [
    "im = imread(names[4])\n",
    "gray = color.rgb2gray(im)\n",
    "bins, radii = phist(gray)\n",
    "\n",
    "\n",
    "tires.append(im)\n",
    "polar_bins.append(bins)\n",
    "radial_bins.append(radii)"
   ]
  },
  {
   "cell_type": "code",
   "execution_count": null,
   "metadata": {},
   "outputs": [],
   "source": [
    "im = imread(names[5])\n",
    "gray = color.rgb2gray(im)\n",
    "bins, radii = phist(gray)\n",
    "\n",
    "tires.append(im)\n",
    "polar_bins.append(bins)\n",
    "radial_bins.append(radii)"
   ]
  },
  {
   "cell_type": "markdown",
   "metadata": {},
   "source": [
    "Simple distance Comparison. Here are the pictures again."
   ]
  },
  {
   "cell_type": "code",
   "execution_count": null,
   "metadata": {},
   "outputs": [],
   "source": [
    "f = plt.figure(figsize=(20,5))\n",
    "\n",
    "for i in range(len(tires)):\n",
    "    ax = f.add_subplot(1,len(tires), i+1)\n",
    "    ax.imshow(tires[i])\n",
    "    ax.set_title(names[i])\n"
   ]
  },
  {
   "cell_type": "code",
   "execution_count": null,
   "metadata": {},
   "outputs": [],
   "source": [
    "#Measure distance between all vectors \n",
    "\n",
    "# Try both polar_bins and radial_bins\n",
    "\n",
    "from sklearn.metrics import pairwise\n",
    "\n",
    "x = pairwise.pairwise_distances(radial_bins)\n",
    "\n",
    "tires.append(im)\n",
    "plt.imshow(x)\n",
    "plt.colorbar()"
   ]
  },
  {
   "cell_type": "markdown",
   "metadata": {},
   "source": [
    "&#9989; **<font color=red>DO THIS: </font>** Discuss this matrix in class."
   ]
  },
  {
   "cell_type": "markdown",
   "metadata": {},
   "source": [
    "---\n",
    "\n",
    "Written by Dr. Dirk Colbry, Michigan State University\n",
    "<a rel=\"license\" href=\"http://creativecommons.org/licenses/by-nc/4.0/\"><img alt=\"Creative Commons License\" style=\"border-width:0\" src=\"https://i.creativecommons.org/l/by-nc/4.0/88x31.png\" /></a><br />This work is licensed under a <a rel=\"license\" href=\"http://creativecommons.org/licenses/by-nc/4.0/\">Creative Commons Attribution-NonCommercial 4.0 International License</a>."
   ]
  },
  {
   "cell_type": "markdown",
   "metadata": {},
   "source": [
    "---"
   ]
  }
 ],
 "metadata": {
  "kernelspec": {
   "display_name": "Python 3",
   "language": "python",
   "name": "python3"
  },
  "language_info": {
   "codemirror_mode": {
    "name": "ipython",
    "version": 3
   },
   "file_extension": ".py",
   "mimetype": "text/x-python",
   "name": "python",
   "nbconvert_exporter": "python",
   "pygments_lexer": "ipython3",
   "version": "3.7.3"
  }
 },
 "nbformat": 4,
 "nbformat_minor": 1
}
